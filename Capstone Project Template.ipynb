{
 "cells": [
  {
   "cell_type": "markdown",
   "metadata": {
    "editable": true
   },
   "source": [
    "# U.S. Immigration Data\n",
    "### Data Engineering Capstone Project\n",
    "\n",
    "#### Project Summary\n",
    "In this project, we will develop a data model designed for Online Analytical Processing (OLAP) to support queries analyzing U.S. immigration data. In the data model, we complemented the U.S. immigration data with U.S. cities' demographics data (ETL'ed in a fact table) as well as dimension tables for arrival ports, countries, visa types, etc. Considering: a) the Star Schema for the data model, which is optimized for OLAP queries, and b) a large amount of data, the prospects for analysis and extracting insights from the data are endless. We will touch on Exploratory Data Analysis on the collected data.\n",
    "\n",
    "The project follows the following steps:\n",
    "* Step 1: Scope the Project and Gather Data\n",
    "* Step 2: Explore and Assess the Data\n",
    "* Step 3: Define the Data Model\n",
    "* Step 4: Run ETL to Model the Data\n",
    "* Step 5: Conclusion and future work"
   ]
  },
  {
   "cell_type": "code",
   "execution_count": 107,
   "metadata": {
    "editable": true
   },
   "outputs": [],
   "source": [
    "# Do all imports and installs here\n",
    "import pandas as pd\n",
    "import glob\n",
    "from pyspark.sql import SparkSession\n",
    "from pyspark.sql.types import StructType as R, StructField as Fld,\\\n",
    "    DoubleType as Dbl, StringType as Str, IntegerType as Int,\\\n",
    "    TimestampType as Timestamp, DateType as Date, LongType as Long\n",
    "import pyspark.sql.functions as F\n",
    "from IPython.core.display import display, HTML"
   ]
  },
  {
   "cell_type": "markdown",
   "metadata": {
    "editable": true
   },
   "source": [
    "### Step 1: Scope the Project and Gather Data\n",
    "\n",
    "#### Scope \n",
    "We'll utilize Pyspark to perform an extract, transform, load (ETL) pipeline. Considering that the data formats are inconsistent across all data sets, which resembles an ETL from a data lake, the extracted data will be cleaned and used to build the Star Schema in the data model as Apache Parquet columnar format optimized for OLAP queries.\n",
    "\n",
    "We can use Spark to concatenate data in each path into a single data frame. However, we'll opt for using only a single path since: \n",
    "1. its size meets the requirement for this project, \n",
    "2. the data model and ETL pipeline is expected to work the same as we scale up the size of the data, \n",
    "3. it's easier to identify the errors and verify our theory on a small set of data before scaling up.\n",
    "\n",
    "\n",
    "#### Datasets \n",
    "\n",
    "* ##### Immigration Data\n",
    "The immigration data is in a folder in this workspace and accessible on the following path: <code>../../data/18-83510-I94-Data-2016/</code>. There's a file for each month of the year. An example file name is i94_apr16_sub.sas7bdat. Each file has a three-letter abbreviation for the month name. So a full file path for June would look like this: <code>../../data/18-83510-I94-Data-2016/i94_jun16_sub.sas7bdat</code>. This data comes from the U.S. National Tourism and Trade Office.\n",
    "More information on the immigration data [here](https://travel.trade.gov/research/reports/i94/historical/2016.html).\n",
    "\n",
    "* ##### U.S. City Demographic Data\n",
    " This data comes from OpenSoft. You can read more about it [here](https://public.opendatasoft.com/explore/dataset/us-cities-demographics/export/).\n",
    "\n",
    "* ##### Tools/Technologies Used\n",
    "Python, Apache Spark, Pandas"
   ]
  },
  {
   "cell_type": "code",
   "execution_count": 108,
   "metadata": {
    "editable": true
   },
   "outputs": [
    {
     "data": {
      "text/plain": [
       "['../../data/18-83510-I94-Data-2016/i94_apr16_sub.sas7bdat',\n",
       " '../../data/18-83510-I94-Data-2016/i94_sep16_sub.sas7bdat',\n",
       " '../../data/18-83510-I94-Data-2016/i94_nov16_sub.sas7bdat',\n",
       " '../../data/18-83510-I94-Data-2016/i94_mar16_sub.sas7bdat',\n",
       " '../../data/18-83510-I94-Data-2016/i94_jun16_sub.sas7bdat',\n",
       " '../../data/18-83510-I94-Data-2016/i94_aug16_sub.sas7bdat',\n",
       " '../../data/18-83510-I94-Data-2016/i94_may16_sub.sas7bdat',\n",
       " '../../data/18-83510-I94-Data-2016/i94_jan16_sub.sas7bdat',\n",
       " '../../data/18-83510-I94-Data-2016/i94_oct16_sub.sas7bdat',\n",
       " '../../data/18-83510-I94-Data-2016/i94_jul16_sub.sas7bdat',\n",
       " '../../data/18-83510-I94-Data-2016/i94_feb16_sub.sas7bdat',\n",
       " '../../data/18-83510-I94-Data-2016/i94_dec16_sub.sas7bdat']"
      ]
     },
     "execution_count": 108,
     "metadata": {},
     "output_type": "execute_result"
    }
   ],
   "source": [
    "# exploring the directories containing the datasets\n",
    "fname = '../../data/18-83510-I94-Data-2016/i94_apr16_sub.sas7bdat'\n",
    "\n",
    "# to read the file in pandas: df = pd.read_sas(fname, 'sas7bdat', encoding=\"ISO-8859-1\")\n",
    "i94_file_paths = glob.glob(\"../../data/18-83510-I94-Data-2016/*.sas7bdat\")\n",
    "i94_file_paths"
   ]
  },
  {
   "cell_type": "markdown",
   "metadata": {
    "editable": true
   },
   "source": [
    "we can use spark to concatenate data in each path into a singe data frame. However, we'll opt for using only a single path since: \n",
    "1. its size meets the requirement for this project, \n",
    "2. the data model and ETL pipeline is expected to work the same as we scale up the size of the data, \n",
    "3. it's easier identify the errors and verify our theory on small set of data before scaling up."
   ]
  },
  {
   "cell_type": "code",
   "execution_count": 109,
   "metadata": {
    "editable": true
   },
   "outputs": [
    {
     "name": "stdout",
     "output_type": "stream",
     "text": [
      "root\n",
      " |-- cicid: double (nullable = true)\n",
      " |-- i94yr: double (nullable = true)\n",
      " |-- i94mon: double (nullable = true)\n",
      " |-- i94cit: double (nullable = true)\n",
      " |-- i94res: double (nullable = true)\n",
      " |-- i94port: string (nullable = true)\n",
      " |-- arrdate: double (nullable = true)\n",
      " |-- i94mode: double (nullable = true)\n",
      " |-- i94addr: string (nullable = true)\n",
      " |-- depdate: double (nullable = true)\n",
      " |-- i94bir: double (nullable = true)\n",
      " |-- i94visa: double (nullable = true)\n",
      " |-- count: double (nullable = true)\n",
      " |-- dtadfile: string (nullable = true)\n",
      " |-- visapost: string (nullable = true)\n",
      " |-- occup: string (nullable = true)\n",
      " |-- entdepa: string (nullable = true)\n",
      " |-- entdepd: string (nullable = true)\n",
      " |-- entdepu: string (nullable = true)\n",
      " |-- matflag: string (nullable = true)\n",
      " |-- biryear: double (nullable = true)\n",
      " |-- dtaddto: string (nullable = true)\n",
      " |-- gender: string (nullable = true)\n",
      " |-- insnum: string (nullable = true)\n",
      " |-- airline: string (nullable = true)\n",
      " |-- admnum: double (nullable = true)\n",
      " |-- fltno: string (nullable = true)\n",
      " |-- visatype: string (nullable = true)\n",
      "\n"
     ]
    }
   ],
   "source": [
    "# create spark session and load i_94 data\n",
    "spark = SparkSession.builder \\\n",
    "            .appName(\"Capstone Project - Immigration Dataset\") \\\n",
    "            .config(\"spark.jars.packages\",\"saurfang:spark-sas7bdat:2.0.0-s_2.11\") \\\n",
    "            .enableHiveSupport() \\\n",
    "            .getOrCreate()\n",
    "\n",
    "i94_df = spark.read.format('com.github.saurfang.sas.spark').load(fname)\n",
    "# print schema of loaded i_94 dataframe\n",
    "i94_df.printSchema()"
   ]
  },
  {
   "cell_type": "code",
   "execution_count": 110,
   "metadata": {
    "editable": true
   },
   "outputs": [
    {
     "name": "stdout",
     "output_type": "stream",
     "text": [
      "Paritions:  14\n"
     ]
    },
    {
     "data": {
      "text/html": [
       "<div>\n",
       "<style scoped>\n",
       "    .dataframe tbody tr th:only-of-type {\n",
       "        vertical-align: middle;\n",
       "    }\n",
       "\n",
       "    .dataframe tbody tr th {\n",
       "        vertical-align: top;\n",
       "    }\n",
       "\n",
       "    .dataframe thead th {\n",
       "        text-align: right;\n",
       "    }\n",
       "</style>\n",
       "<table border=\"1\" class=\"dataframe\">\n",
       "  <thead>\n",
       "    <tr style=\"text-align: right;\">\n",
       "      <th></th>\n",
       "      <th>cicid</th>\n",
       "      <th>i94yr</th>\n",
       "      <th>i94mon</th>\n",
       "      <th>i94cit</th>\n",
       "      <th>i94res</th>\n",
       "      <th>i94port</th>\n",
       "      <th>arrdate</th>\n",
       "      <th>i94mode</th>\n",
       "      <th>i94addr</th>\n",
       "      <th>depdate</th>\n",
       "      <th>...</th>\n",
       "      <th>entdepu</th>\n",
       "      <th>matflag</th>\n",
       "      <th>biryear</th>\n",
       "      <th>dtaddto</th>\n",
       "      <th>gender</th>\n",
       "      <th>insnum</th>\n",
       "      <th>airline</th>\n",
       "      <th>admnum</th>\n",
       "      <th>fltno</th>\n",
       "      <th>visatype</th>\n",
       "    </tr>\n",
       "  </thead>\n",
       "  <tbody>\n",
       "    <tr>\n",
       "      <th>0</th>\n",
       "      <td>6.0</td>\n",
       "      <td>2016.0</td>\n",
       "      <td>4.0</td>\n",
       "      <td>692.0</td>\n",
       "      <td>692.0</td>\n",
       "      <td>XXX</td>\n",
       "      <td>20573.0</td>\n",
       "      <td>NaN</td>\n",
       "      <td>None</td>\n",
       "      <td>NaN</td>\n",
       "      <td>...</td>\n",
       "      <td>U</td>\n",
       "      <td>None</td>\n",
       "      <td>1979.0</td>\n",
       "      <td>10282016</td>\n",
       "      <td>None</td>\n",
       "      <td>None</td>\n",
       "      <td>None</td>\n",
       "      <td>1.897628e+09</td>\n",
       "      <td>None</td>\n",
       "      <td>B2</td>\n",
       "    </tr>\n",
       "    <tr>\n",
       "      <th>1</th>\n",
       "      <td>7.0</td>\n",
       "      <td>2016.0</td>\n",
       "      <td>4.0</td>\n",
       "      <td>254.0</td>\n",
       "      <td>276.0</td>\n",
       "      <td>ATL</td>\n",
       "      <td>20551.0</td>\n",
       "      <td>1.0</td>\n",
       "      <td>AL</td>\n",
       "      <td>NaN</td>\n",
       "      <td>...</td>\n",
       "      <td>Y</td>\n",
       "      <td>None</td>\n",
       "      <td>1991.0</td>\n",
       "      <td>D/S</td>\n",
       "      <td>M</td>\n",
       "      <td>None</td>\n",
       "      <td>None</td>\n",
       "      <td>3.736796e+09</td>\n",
       "      <td>00296</td>\n",
       "      <td>F1</td>\n",
       "    </tr>\n",
       "    <tr>\n",
       "      <th>2</th>\n",
       "      <td>15.0</td>\n",
       "      <td>2016.0</td>\n",
       "      <td>4.0</td>\n",
       "      <td>101.0</td>\n",
       "      <td>101.0</td>\n",
       "      <td>WAS</td>\n",
       "      <td>20545.0</td>\n",
       "      <td>1.0</td>\n",
       "      <td>MI</td>\n",
       "      <td>20691.0</td>\n",
       "      <td>...</td>\n",
       "      <td>None</td>\n",
       "      <td>M</td>\n",
       "      <td>1961.0</td>\n",
       "      <td>09302016</td>\n",
       "      <td>M</td>\n",
       "      <td>None</td>\n",
       "      <td>OS</td>\n",
       "      <td>6.666432e+08</td>\n",
       "      <td>93</td>\n",
       "      <td>B2</td>\n",
       "    </tr>\n",
       "    <tr>\n",
       "      <th>3</th>\n",
       "      <td>16.0</td>\n",
       "      <td>2016.0</td>\n",
       "      <td>4.0</td>\n",
       "      <td>101.0</td>\n",
       "      <td>101.0</td>\n",
       "      <td>NYC</td>\n",
       "      <td>20545.0</td>\n",
       "      <td>1.0</td>\n",
       "      <td>MA</td>\n",
       "      <td>20567.0</td>\n",
       "      <td>...</td>\n",
       "      <td>None</td>\n",
       "      <td>M</td>\n",
       "      <td>1988.0</td>\n",
       "      <td>09302016</td>\n",
       "      <td>None</td>\n",
       "      <td>None</td>\n",
       "      <td>AA</td>\n",
       "      <td>9.246846e+10</td>\n",
       "      <td>00199</td>\n",
       "      <td>B2</td>\n",
       "    </tr>\n",
       "    <tr>\n",
       "      <th>4</th>\n",
       "      <td>17.0</td>\n",
       "      <td>2016.0</td>\n",
       "      <td>4.0</td>\n",
       "      <td>101.0</td>\n",
       "      <td>101.0</td>\n",
       "      <td>NYC</td>\n",
       "      <td>20545.0</td>\n",
       "      <td>1.0</td>\n",
       "      <td>MA</td>\n",
       "      <td>20567.0</td>\n",
       "      <td>...</td>\n",
       "      <td>None</td>\n",
       "      <td>M</td>\n",
       "      <td>2012.0</td>\n",
       "      <td>09302016</td>\n",
       "      <td>None</td>\n",
       "      <td>None</td>\n",
       "      <td>AA</td>\n",
       "      <td>9.246846e+10</td>\n",
       "      <td>00199</td>\n",
       "      <td>B2</td>\n",
       "    </tr>\n",
       "  </tbody>\n",
       "</table>\n",
       "<p>5 rows × 28 columns</p>\n",
       "</div>"
      ],
      "text/plain": [
       "   cicid   i94yr  i94mon  i94cit  i94res i94port  arrdate  i94mode i94addr  \\\n",
       "0    6.0  2016.0     4.0   692.0   692.0     XXX  20573.0      NaN    None   \n",
       "1    7.0  2016.0     4.0   254.0   276.0     ATL  20551.0      1.0      AL   \n",
       "2   15.0  2016.0     4.0   101.0   101.0     WAS  20545.0      1.0      MI   \n",
       "3   16.0  2016.0     4.0   101.0   101.0     NYC  20545.0      1.0      MA   \n",
       "4   17.0  2016.0     4.0   101.0   101.0     NYC  20545.0      1.0      MA   \n",
       "\n",
       "   depdate   ...     entdepu  matflag  biryear   dtaddto gender insnum  \\\n",
       "0      NaN   ...           U     None   1979.0  10282016   None   None   \n",
       "1      NaN   ...           Y     None   1991.0       D/S      M   None   \n",
       "2  20691.0   ...        None        M   1961.0  09302016      M   None   \n",
       "3  20567.0   ...        None        M   1988.0  09302016   None   None   \n",
       "4  20567.0   ...        None        M   2012.0  09302016   None   None   \n",
       "\n",
       "  airline        admnum  fltno visatype  \n",
       "0    None  1.897628e+09   None       B2  \n",
       "1    None  3.736796e+09  00296       F1  \n",
       "2      OS  6.666432e+08     93       B2  \n",
       "3      AA  9.246846e+10  00199       B2  \n",
       "4      AA  9.246846e+10  00199       B2  \n",
       "\n",
       "[5 rows x 28 columns]"
      ]
     },
     "execution_count": 110,
     "metadata": {},
     "output_type": "execute_result"
    }
   ],
   "source": [
    "print(\"Paritions: \", i94_df.rdd.getNumPartitions())\n",
    "i94_df.limit(5).toPandas()"
   ]
  },
  {
   "cell_type": "markdown",
   "metadata": {
    "editable": true
   },
   "source": [
    "### Step 2: Explore and Assess the Data"
   ]
  },
  {
   "cell_type": "markdown",
   "metadata": {
    "editable": true
   },
   "source": [
    "#### Explore the Data \n",
    "\n",
    "Here we'll load and explore the remaining datasets "
   ]
  },
  {
   "cell_type": "code",
   "execution_count": 111,
   "metadata": {
    "editable": true
   },
   "outputs": [],
   "source": [
    "# define an explicit schema for US demographics dataset\n",
    "schema = R([\n",
    "        Fld(\"city\", Str()),\n",
    "        Fld(\"state\", Str()),\n",
    "        Fld(\"median_age\", Dbl()),\n",
    "        Fld(\"male_population\", Int()),\n",
    "        Fld(\"female_population\", Int()),\n",
    "        Fld(\"total_population\", Int()),\n",
    "        Fld(\"number_of_veterans\", Int()),\n",
    "        Fld(\"foreign_born\", Int()),\n",
    "        Fld(\"average_household_size\", Dbl()),\n",
    "        Fld(\"state_code\", Str()),\n",
    "        Fld(\"race\", Str()),\n",
    "        Fld(\"count\", Int())\n",
    "    ])\n",
    "\n",
    "# read US demographics dataset into a dataframe using the defined schema\n",
    "us_demographics_df = spark.read.csv('us-cities-demographics.csv', sep=';', header=True, schema=schema)"
   ]
  },
  {
   "cell_type": "code",
   "execution_count": 112,
   "metadata": {
    "editable": true
   },
   "outputs": [
    {
     "data": {
      "text/plain": [
       "DataFrame[city: string, state: string, median_age: double, male_population: int, female_population: int, total_population: int, number_of_veterans: int, foreign_born: int, average_household_size: double, state_code: string, race: string, count: int]"
      ]
     },
     "execution_count": 112,
     "metadata": {},
     "output_type": "execute_result"
    }
   ],
   "source": [
    "us_demographics_df"
   ]
  },
  {
   "cell_type": "code",
   "execution_count": 113,
   "metadata": {
    "editable": true
   },
   "outputs": [
    {
     "data": {
      "text/html": [
       "<div>\n",
       "<style scoped>\n",
       "    .dataframe tbody tr th:only-of-type {\n",
       "        vertical-align: middle;\n",
       "    }\n",
       "\n",
       "    .dataframe tbody tr th {\n",
       "        vertical-align: top;\n",
       "    }\n",
       "\n",
       "    .dataframe thead th {\n",
       "        text-align: right;\n",
       "    }\n",
       "</style>\n",
       "<table border=\"1\" class=\"dataframe\">\n",
       "  <thead>\n",
       "    <tr style=\"text-align: right;\">\n",
       "      <th></th>\n",
       "      <th>city</th>\n",
       "      <th>state</th>\n",
       "      <th>median_age</th>\n",
       "      <th>male_population</th>\n",
       "      <th>female_population</th>\n",
       "      <th>total_population</th>\n",
       "      <th>number_of_veterans</th>\n",
       "      <th>foreign_born</th>\n",
       "      <th>average_household_size</th>\n",
       "      <th>state_code</th>\n",
       "      <th>race</th>\n",
       "      <th>count</th>\n",
       "    </tr>\n",
       "  </thead>\n",
       "  <tbody>\n",
       "    <tr>\n",
       "      <th>0</th>\n",
       "      <td>Silver Spring</td>\n",
       "      <td>Maryland</td>\n",
       "      <td>33.8</td>\n",
       "      <td>40601</td>\n",
       "      <td>41862</td>\n",
       "      <td>82463</td>\n",
       "      <td>1562</td>\n",
       "      <td>30908</td>\n",
       "      <td>2.60</td>\n",
       "      <td>MD</td>\n",
       "      <td>Hispanic or Latino</td>\n",
       "      <td>25924</td>\n",
       "    </tr>\n",
       "    <tr>\n",
       "      <th>1</th>\n",
       "      <td>Quincy</td>\n",
       "      <td>Massachusetts</td>\n",
       "      <td>41.0</td>\n",
       "      <td>44129</td>\n",
       "      <td>49500</td>\n",
       "      <td>93629</td>\n",
       "      <td>4147</td>\n",
       "      <td>32935</td>\n",
       "      <td>2.39</td>\n",
       "      <td>MA</td>\n",
       "      <td>White</td>\n",
       "      <td>58723</td>\n",
       "    </tr>\n",
       "    <tr>\n",
       "      <th>2</th>\n",
       "      <td>Hoover</td>\n",
       "      <td>Alabama</td>\n",
       "      <td>38.5</td>\n",
       "      <td>38040</td>\n",
       "      <td>46799</td>\n",
       "      <td>84839</td>\n",
       "      <td>4819</td>\n",
       "      <td>8229</td>\n",
       "      <td>2.58</td>\n",
       "      <td>AL</td>\n",
       "      <td>Asian</td>\n",
       "      <td>4759</td>\n",
       "    </tr>\n",
       "    <tr>\n",
       "      <th>3</th>\n",
       "      <td>Rancho Cucamonga</td>\n",
       "      <td>California</td>\n",
       "      <td>34.5</td>\n",
       "      <td>88127</td>\n",
       "      <td>87105</td>\n",
       "      <td>175232</td>\n",
       "      <td>5821</td>\n",
       "      <td>33878</td>\n",
       "      <td>3.18</td>\n",
       "      <td>CA</td>\n",
       "      <td>Black or African-American</td>\n",
       "      <td>24437</td>\n",
       "    </tr>\n",
       "    <tr>\n",
       "      <th>4</th>\n",
       "      <td>Newark</td>\n",
       "      <td>New Jersey</td>\n",
       "      <td>34.6</td>\n",
       "      <td>138040</td>\n",
       "      <td>143873</td>\n",
       "      <td>281913</td>\n",
       "      <td>5829</td>\n",
       "      <td>86253</td>\n",
       "      <td>2.73</td>\n",
       "      <td>NJ</td>\n",
       "      <td>White</td>\n",
       "      <td>76402</td>\n",
       "    </tr>\n",
       "  </tbody>\n",
       "</table>\n",
       "</div>"
      ],
      "text/plain": [
       "               city          state  median_age  male_population  \\\n",
       "0     Silver Spring       Maryland        33.8            40601   \n",
       "1            Quincy  Massachusetts        41.0            44129   \n",
       "2            Hoover        Alabama        38.5            38040   \n",
       "3  Rancho Cucamonga     California        34.5            88127   \n",
       "4            Newark     New Jersey        34.6           138040   \n",
       "\n",
       "   female_population  total_population  number_of_veterans  foreign_born  \\\n",
       "0              41862             82463                1562         30908   \n",
       "1              49500             93629                4147         32935   \n",
       "2              46799             84839                4819          8229   \n",
       "3              87105            175232                5821         33878   \n",
       "4             143873            281913                5829         86253   \n",
       "\n",
       "   average_household_size state_code                       race  count  \n",
       "0                    2.60         MD         Hispanic or Latino  25924  \n",
       "1                    2.39         MA                      White  58723  \n",
       "2                    2.58         AL                      Asian   4759  \n",
       "3                    3.18         CA  Black or African-American  24437  \n",
       "4                    2.73         NJ                      White  76402  "
      ]
     },
     "execution_count": 113,
     "metadata": {},
     "output_type": "execute_result"
    }
   ],
   "source": [
    "us_demographics_df.limit(5).toPandas()"
   ]
  },
  {
   "cell_type": "markdown",
   "metadata": {
    "editable": true
   },
   "source": [
    "#### Cleaning Steps\n",
    "upon checking the SAS labels descriptions file, we found the we must clean the data before loading it in dataframes. the folloing python function we extract and clean the label description data."
   ]
  },
  {
   "cell_type": "code",
   "execution_count": 114,
   "metadata": {
    "editable": true
   },
   "outputs": [],
   "source": [
    "def extract_data_from_SAS_labels_descriptions(input_label):\n",
    "    '''\n",
    "    A procedure that returns a cleaned list of code value pairs for the provided input label\n",
    "    \n",
    "    Parameters\n",
    "    ----------\n",
    "    input_label : str\n",
    "        name of the label in the SAS labels descriptions file\n",
    "    \n",
    "    Returns\n",
    "    -------\n",
    "    code_value_list : list(tuple(str, str))\n",
    "        a list of code values pairs extracted from the SAS labels descriptions file and cleaned\n",
    "    '''\n",
    "\n",
    "    with open('I94_SAS_Labels_Descriptions.SAS') as labels_descriptions:\n",
    "            raw_labels = labels_descriptions.read()\n",
    "\n",
    "    # extract only label data\n",
    "    labels = raw_labels[raw_labels.index(input_label):]\n",
    "    labels = labels[:labels.index(';')]\n",
    "    \n",
    "    \n",
    "    # in each line remove unnecessary spaces and extract the code and its corresponding value \n",
    "    lines = labels.splitlines()\n",
    "    code_value_list = []\n",
    "    for line in lines:\n",
    "        try:\n",
    "            code, value = line.split('=')\n",
    "            code = code.strip().strip(\"'\").strip('\"')\n",
    "            value = value.strip().strip(\"'\").strip('\"').strip()\n",
    "            code_value_list.append((code, value))\n",
    "        except:\n",
    "            pass\n",
    "        \n",
    "    return code_value_list"
   ]
  },
  {
   "cell_type": "code",
   "execution_count": 115,
   "metadata": {
    "editable": true
   },
   "outputs": [],
   "source": [
    "# define the schema the will be used for all label descriptions\n",
    "schema = R([\n",
    "        Fld(\"code\", Str()),\n",
    "        Fld(\"name\", Str())\n",
    "    ])"
   ]
  },
  {
   "cell_type": "code",
   "execution_count": 116,
   "metadata": {
    "editable": true
   },
   "outputs": [
    {
     "data": {
      "text/html": [
       "<div>\n",
       "<style scoped>\n",
       "    .dataframe tbody tr th:only-of-type {\n",
       "        vertical-align: middle;\n",
       "    }\n",
       "\n",
       "    .dataframe tbody tr th {\n",
       "        vertical-align: top;\n",
       "    }\n",
       "\n",
       "    .dataframe thead th {\n",
       "        text-align: right;\n",
       "    }\n",
       "</style>\n",
       "<table border=\"1\" class=\"dataframe\">\n",
       "  <thead>\n",
       "    <tr style=\"text-align: right;\">\n",
       "      <th></th>\n",
       "      <th>code</th>\n",
       "      <th>name</th>\n",
       "    </tr>\n",
       "  </thead>\n",
       "  <tbody>\n",
       "    <tr>\n",
       "      <th>0</th>\n",
       "      <td>582</td>\n",
       "      <td>MEXICO Air Sea, and Not Reported (I-94, no lan...</td>\n",
       "    </tr>\n",
       "    <tr>\n",
       "      <th>1</th>\n",
       "      <td>236</td>\n",
       "      <td>AFGHANISTAN</td>\n",
       "    </tr>\n",
       "    <tr>\n",
       "      <th>2</th>\n",
       "      <td>101</td>\n",
       "      <td>ALBANIA</td>\n",
       "    </tr>\n",
       "    <tr>\n",
       "      <th>3</th>\n",
       "      <td>316</td>\n",
       "      <td>ALGERIA</td>\n",
       "    </tr>\n",
       "    <tr>\n",
       "      <th>4</th>\n",
       "      <td>102</td>\n",
       "      <td>ANDORRA</td>\n",
       "    </tr>\n",
       "  </tbody>\n",
       "</table>\n",
       "</div>"
      ],
      "text/plain": [
       "  code                                               name\n",
       "0  582  MEXICO Air Sea, and Not Reported (I-94, no lan...\n",
       "1  236                                        AFGHANISTAN\n",
       "2  101                                            ALBANIA\n",
       "3  316                                            ALGERIA\n",
       "4  102                                            ANDORRA"
      ]
     },
     "execution_count": 116,
     "metadata": {},
     "output_type": "execute_result"
    }
   ],
   "source": [
    "countries_df = spark.createDataFrame(\n",
    "        data=extract_data_from_SAS_labels_descriptions('I94RES'),\n",
    "        schema=schema\n",
    ")\n",
    "\n",
    "countries_df.limit(5).toPandas()"
   ]
  },
  {
   "cell_type": "code",
   "execution_count": 117,
   "metadata": {
    "editable": true
   },
   "outputs": [
    {
     "data": {
      "text/html": [
       "<div>\n",
       "<style scoped>\n",
       "    .dataframe tbody tr th:only-of-type {\n",
       "        vertical-align: middle;\n",
       "    }\n",
       "\n",
       "    .dataframe tbody tr th {\n",
       "        vertical-align: top;\n",
       "    }\n",
       "\n",
       "    .dataframe thead th {\n",
       "        text-align: right;\n",
       "    }\n",
       "</style>\n",
       "<table border=\"1\" class=\"dataframe\">\n",
       "  <thead>\n",
       "    <tr style=\"text-align: right;\">\n",
       "      <th></th>\n",
       "      <th>code</th>\n",
       "      <th>name</th>\n",
       "    </tr>\n",
       "  </thead>\n",
       "  <tbody>\n",
       "    <tr>\n",
       "      <th>0</th>\n",
       "      <td>ALC</td>\n",
       "      <td>ALCAN, AK</td>\n",
       "    </tr>\n",
       "    <tr>\n",
       "      <th>1</th>\n",
       "      <td>ANC</td>\n",
       "      <td>ANCHORAGE, AK</td>\n",
       "    </tr>\n",
       "    <tr>\n",
       "      <th>2</th>\n",
       "      <td>BAR</td>\n",
       "      <td>BAKER AAF - BAKER ISLAND, AK</td>\n",
       "    </tr>\n",
       "    <tr>\n",
       "      <th>3</th>\n",
       "      <td>DAC</td>\n",
       "      <td>DALTONS CACHE, AK</td>\n",
       "    </tr>\n",
       "    <tr>\n",
       "      <th>4</th>\n",
       "      <td>PIZ</td>\n",
       "      <td>DEW STATION PT LAY DEW, AK</td>\n",
       "    </tr>\n",
       "  </tbody>\n",
       "</table>\n",
       "</div>"
      ],
      "text/plain": [
       "  code                          name\n",
       "0  ALC                     ALCAN, AK\n",
       "1  ANC                 ANCHORAGE, AK\n",
       "2  BAR  BAKER AAF - BAKER ISLAND, AK\n",
       "3  DAC             DALTONS CACHE, AK\n",
       "4  PIZ    DEW STATION PT LAY DEW, AK"
      ]
     },
     "execution_count": 117,
     "metadata": {},
     "output_type": "execute_result"
    }
   ],
   "source": [
    "ports_df = spark.createDataFrame(\n",
    "        data=extract_data_from_SAS_labels_descriptions('I94PORT'),\n",
    "        schema=schema\n",
    ")\n",
    "ports_df.limit(5).toPandas()"
   ]
  },
  {
   "cell_type": "code",
   "execution_count": 118,
   "metadata": {
    "editable": true
   },
   "outputs": [
    {
     "data": {
      "text/html": [
       "<div>\n",
       "<style scoped>\n",
       "    .dataframe tbody tr th:only-of-type {\n",
       "        vertical-align: middle;\n",
       "    }\n",
       "\n",
       "    .dataframe tbody tr th {\n",
       "        vertical-align: top;\n",
       "    }\n",
       "\n",
       "    .dataframe thead th {\n",
       "        text-align: right;\n",
       "    }\n",
       "</style>\n",
       "<table border=\"1\" class=\"dataframe\">\n",
       "  <thead>\n",
       "    <tr style=\"text-align: right;\">\n",
       "      <th></th>\n",
       "      <th>code</th>\n",
       "      <th>name</th>\n",
       "    </tr>\n",
       "  </thead>\n",
       "  <tbody>\n",
       "    <tr>\n",
       "      <th>0</th>\n",
       "      <td>AL</td>\n",
       "      <td>ALABAMA</td>\n",
       "    </tr>\n",
       "    <tr>\n",
       "      <th>1</th>\n",
       "      <td>AK</td>\n",
       "      <td>ALASKA</td>\n",
       "    </tr>\n",
       "    <tr>\n",
       "      <th>2</th>\n",
       "      <td>AZ</td>\n",
       "      <td>ARIZONA</td>\n",
       "    </tr>\n",
       "    <tr>\n",
       "      <th>3</th>\n",
       "      <td>AR</td>\n",
       "      <td>ARKANSAS</td>\n",
       "    </tr>\n",
       "    <tr>\n",
       "      <th>4</th>\n",
       "      <td>CA</td>\n",
       "      <td>CALIFORNIA</td>\n",
       "    </tr>\n",
       "  </tbody>\n",
       "</table>\n",
       "</div>"
      ],
      "text/plain": [
       "  code        name\n",
       "0   AL     ALABAMA\n",
       "1   AK      ALASKA\n",
       "2   AZ     ARIZONA\n",
       "3   AR    ARKANSAS\n",
       "4   CA  CALIFORNIA"
      ]
     },
     "execution_count": 118,
     "metadata": {},
     "output_type": "execute_result"
    }
   ],
   "source": [
    "states_df = spark.createDataFrame(\n",
    "        data=extract_data_from_SAS_labels_descriptions('I94ADDR'),\n",
    "        schema=schema\n",
    ")\n",
    "\n",
    "states_df.limit(5).toPandas()"
   ]
  },
  {
   "cell_type": "code",
   "execution_count": 119,
   "metadata": {
    "editable": true
   },
   "outputs": [
    {
     "data": {
      "text/html": [
       "<div>\n",
       "<style scoped>\n",
       "    .dataframe tbody tr th:only-of-type {\n",
       "        vertical-align: middle;\n",
       "    }\n",
       "\n",
       "    .dataframe tbody tr th {\n",
       "        vertical-align: top;\n",
       "    }\n",
       "\n",
       "    .dataframe thead th {\n",
       "        text-align: right;\n",
       "    }\n",
       "</style>\n",
       "<table border=\"1\" class=\"dataframe\">\n",
       "  <thead>\n",
       "    <tr style=\"text-align: right;\">\n",
       "      <th></th>\n",
       "      <th>code</th>\n",
       "      <th>name</th>\n",
       "    </tr>\n",
       "  </thead>\n",
       "  <tbody>\n",
       "    <tr>\n",
       "      <th>0</th>\n",
       "      <td>1</td>\n",
       "      <td>Air</td>\n",
       "    </tr>\n",
       "    <tr>\n",
       "      <th>1</th>\n",
       "      <td>2</td>\n",
       "      <td>Sea</td>\n",
       "    </tr>\n",
       "    <tr>\n",
       "      <th>2</th>\n",
       "      <td>3</td>\n",
       "      <td>Land</td>\n",
       "    </tr>\n",
       "    <tr>\n",
       "      <th>3</th>\n",
       "      <td>9</td>\n",
       "      <td>Not reported</td>\n",
       "    </tr>\n",
       "  </tbody>\n",
       "</table>\n",
       "</div>"
      ],
      "text/plain": [
       "  code          name\n",
       "0    1           Air\n",
       "1    2           Sea\n",
       "2    3          Land\n",
       "3    9  Not reported"
      ]
     },
     "execution_count": 119,
     "metadata": {},
     "output_type": "execute_result"
    }
   ],
   "source": [
    "travel_modes_df = spark.createDataFrame(\n",
    "        data=extract_data_from_SAS_labels_descriptions('I94MODE'),\n",
    "        schema=schema\n",
    ")\n",
    "\n",
    "travel_modes_df.limit(5).toPandas()"
   ]
  },
  {
   "cell_type": "code",
   "execution_count": 120,
   "metadata": {
    "editable": true
   },
   "outputs": [
    {
     "data": {
      "text/html": [
       "<div>\n",
       "<style scoped>\n",
       "    .dataframe tbody tr th:only-of-type {\n",
       "        vertical-align: middle;\n",
       "    }\n",
       "\n",
       "    .dataframe tbody tr th {\n",
       "        vertical-align: top;\n",
       "    }\n",
       "\n",
       "    .dataframe thead th {\n",
       "        text-align: right;\n",
       "    }\n",
       "</style>\n",
       "<table border=\"1\" class=\"dataframe\">\n",
       "  <thead>\n",
       "    <tr style=\"text-align: right;\">\n",
       "      <th></th>\n",
       "      <th>code</th>\n",
       "      <th>name</th>\n",
       "    </tr>\n",
       "  </thead>\n",
       "  <tbody>\n",
       "    <tr>\n",
       "      <th>0</th>\n",
       "      <td>1</td>\n",
       "      <td>Business</td>\n",
       "    </tr>\n",
       "    <tr>\n",
       "      <th>1</th>\n",
       "      <td>2</td>\n",
       "      <td>Pleasure</td>\n",
       "    </tr>\n",
       "    <tr>\n",
       "      <th>2</th>\n",
       "      <td>3</td>\n",
       "      <td>Student</td>\n",
       "    </tr>\n",
       "  </tbody>\n",
       "</table>\n",
       "</div>"
      ],
      "text/plain": [
       "  code      name\n",
       "0    1  Business\n",
       "1    2  Pleasure\n",
       "2    3   Student"
      ]
     },
     "execution_count": 120,
     "metadata": {},
     "output_type": "execute_result"
    }
   ],
   "source": [
    "visa_categories_df = spark.createDataFrame(\n",
    "        data=extract_data_from_SAS_labels_descriptions('I94VISA'),\n",
    "        schema=schema\n",
    ")\n",
    "\n",
    "visa_categories_df.limit(5).toPandas()"
   ]
  },
  {
   "cell_type": "markdown",
   "metadata": {
    "editable": true
   },
   "source": [
    "performing more exploration and checks on the extraced data"
   ]
  },
  {
   "cell_type": "code",
   "execution_count": 121,
   "metadata": {
    "editable": true
   },
   "outputs": [
    {
     "data": {
      "text/plain": [
       "660"
      ]
     },
     "execution_count": 121,
     "metadata": {},
     "output_type": "execute_result"
    }
   ],
   "source": [
    "len(ports_df.toPandas()['code'].unique())"
   ]
  },
  {
   "cell_type": "code",
   "execution_count": 122,
   "metadata": {
    "editable": true
   },
   "outputs": [
    {
     "data": {
      "text/plain": [
       "array(['ALC', 'ANC', 'BAR', 'DAC', 'PIZ', 'DTH', 'EGL', 'FRB', 'HOM',\n",
       "       'HYD', 'JUN', '5KE', 'KET', 'MOS', 'NIK', 'NOM', 'PKC', 'ORI',\n",
       "       'SKA', 'SNP', 'TKI', 'WRA', 'HSV', 'MOB', 'LIA', 'ROG', 'DOU',\n",
       "       'LUK', 'MAP', 'NAC', 'NOG', 'PHO', 'POR', 'SLU', 'SAS', 'TUC',\n",
       "       'YUI', 'AND', 'BUR', 'CAL', 'CAO', 'FRE', 'ICP', 'LNB', 'LOS',\n",
       "       'BFL', 'OAK', 'ONT', 'OTM', 'BLT', 'PSP', 'SAC', 'SLS', 'SDP',\n",
       "       'SFR', 'SNJ', 'SLO', 'SLI', 'SPC', 'SYS', 'SAA', 'STO', 'TEC',\n",
       "       'TRV', 'APA', 'ASE', 'COS', 'DEN', 'DRO', 'BDL', 'BGC', 'GRT',\n",
       "       'HAR', 'NWH', 'NWL', 'TST', 'WAS', 'DOV', 'DVD', 'WLL', 'BOC',\n",
       "       'SRQ', 'CAN', 'DAB', 'FRN', 'FTL', 'FMY', 'FPF', 'HUR', 'GNV',\n",
       "       'JAC', 'KEY', 'LEE', 'MLB', 'MIA', 'APF', 'OPF', 'ORL', 'PAN',\n",
       "       'PEN', 'PCF', 'PEV', 'PSJ', 'SFB', 'SGJ', 'SAU', 'FPR', 'SPE',\n",
       "       'TAM', 'WPB', 'ATL', 'BRU', 'AGS', 'SAV', 'AGA', 'HHW', 'OGG',\n",
       "       'KOA', 'LIH', 'CID', 'DSM', 'BOI', 'EPI', 'IDA', 'PTL', 'SPI',\n",
       "       'CHI', 'DPA', 'PIA', 'RFD', 'UGN', 'GAR', 'HMM', 'INP', 'MRL',\n",
       "       'SBN', 'ICT', 'LEX', 'LOU', 'BTN', 'LKC', 'LAK', 'MLU', 'MGC',\n",
       "       'NOL', 'BOS', 'GLO', 'BED', 'LYN', 'ADW', 'BAL', 'MKG', 'PAX',\n",
       "       'BGM', 'BOO', 'BWM', 'BCK', 'CLS', 'CRB', 'COB', 'EST', 'EPT',\n",
       "       'EPM', 'FOR', 'FTF', 'FTK', 'HML', 'HTM', 'JKM', 'KAL', 'LIM',\n",
       "       'LUB', 'MAD', 'POM', 'RGM', 'SBR', 'SRL', 'SPA', 'VNB', 'VCB',\n",
       "       'AGN', 'ALP', 'BCY', 'DET', 'GRP', 'GRO', 'ISL', 'MRC', 'MRY',\n",
       "       'PTK', 'PHU', 'RBT', 'SAG', 'SSM', 'SCL', 'YIP', 'BAU', 'CAR',\n",
       "       'GTF', 'INL', 'CRA', 'MIC', 'DUL', 'ELY', 'GPM', 'SVC', 'INT',\n",
       "       'LAN', 'MSP', 'LIN', 'NOY', 'PIN', '48Y', 'RAN', 'RST', 'ROS',\n",
       "       'SPM', 'WSB', 'WAR', 'KAN', 'SGF', 'STL', 'WHI', 'WHM', 'GPT',\n",
       "       'GTR', 'GUL', 'PAS', 'JAN', 'BIL', 'BTM', 'CHF', 'CTB', 'CUT',\n",
       "       'DLB', 'EUR', 'BZN', 'FCA', 'GGW', 'GRE', 'HVR', 'HEL', 'LWT',\n",
       "       'MGM', 'OPH', 'PIE', 'RAY', 'ROO', 'SCO', 'SWE', 'TRL', 'TUR',\n",
       "       'WCM', 'CLT', 'FAY', 'MRH', 'FOP', 'GSO', 'RDU', 'SSC', 'WIL',\n",
       "       'AMB', 'ANT', 'CRY', 'DNS', 'FAR', 'FRT', 'GRF', 'HNN', 'HNS',\n",
       "       'MAI', 'MND', 'NEC', 'NOO', 'NRG', 'PEM', 'SAR', 'SHR', 'SJO',\n",
       "       'WAL', 'WHO', 'WND', 'OMA', 'LEB', 'MHT', 'PNH', 'PSM', 'BYO',\n",
       "       'CNJ', 'HOB', 'JER', 'WRI', 'MMU', 'NEW', 'PER', 'ACY', 'ALA',\n",
       "       'ABQ', 'ANP', 'CRL', 'COL', 'CDD', 'DNM', 'LAS', 'LOB', 'RUI',\n",
       "       'STR', 'RNO', 'FLX', 'LVG', 'REN', 'ALB', 'AXB', 'BUF', 'CNH',\n",
       "       'CAP', 'CHM', 'CHT', 'CLA', 'FTC', 'LAG', 'LEW', 'MAS', 'MAG',\n",
       "       'MOO', 'MRR', 'NYC', 'NIA', 'OGD', 'OSW', 'ELM', 'ROC', 'ROU',\n",
       "       'SWF', 'SYR', 'THO', 'TRO', 'WAT', 'HPN', 'WRB', 'YOU', 'AKR',\n",
       "       'ATB', 'CIN', 'CLE', 'CLM', 'LOR', 'MBO', 'SDY', 'TOL', 'OKC',\n",
       "       'TUL', 'AST', 'COO', 'HIO', 'MED', 'NPT', 'POO', 'PUT', 'RDM',\n",
       "       'ERI', 'MDT', 'HSB', 'PHI', 'PIT', 'AGU', 'BQN', 'JCP', 'ENS',\n",
       "       'FAJ', 'HUM', 'JOB', 'MAY', 'PON', 'PSE', 'SAJ', 'VQS', 'PRO',\n",
       "       'PVD', 'CHL', 'CAE', 'GEO', 'GSP', 'GRR', 'MYR', 'SPF', 'HON',\n",
       "       'SAI', 'TYS', 'MEM', 'NSV', 'TRI', 'ADS', 'ADT', 'ANZ', 'AUS',\n",
       "       'BEA', 'BBP', 'SCC', 'BTC', 'BOA', 'BRO', 'CRP', 'DAL', 'DLR',\n",
       "       'DNA', 'EGP', 'ELP', 'FAB', 'FAL', 'FTH', 'AFW', 'FPT', 'GAL',\n",
       "       'HLG', 'HID', 'HOU', 'SGR', 'LLB', 'LCB', 'LRN', 'LAR', 'LSE',\n",
       "       'IND', 'LOI', 'MRS', 'MCA', 'MAF', 'PDN', 'PBB', 'PHR', 'PAR',\n",
       "       'ISB', 'POE', 'PRE', 'PGR', 'RIO', 'ROM', 'SNA', 'SNN', 'VIB',\n",
       "       'YSL', 'CHA', 'CHR', 'CRU', 'FRK', 'STT', 'LGU', 'SLC', 'CHO',\n",
       "       'DAA', 'HOP', 'HEF', 'NWN', 'NOR', 'RCM', 'ABS', 'ABG', 'BEB',\n",
       "       'BEE', 'BRG', 'CNA', 'DER', 'DLV', 'ERC', 'HIG', 'MOR', 'NPV',\n",
       "       'NRT', 'NRN', 'PIV', 'RIF', 'STA', 'SWB', 'WBE', 'ABE', 'ANA',\n",
       "       'BEL', 'BLI', 'BLA', 'BWA', 'CUR', 'DVL', 'EVE', 'FER', 'FRI',\n",
       "       'FWA', 'KLM', 'LAU', 'LON', 'MET', 'MWH', 'NEA', 'NIG', 'OLY',\n",
       "       'ORO', 'PWB', 'PIR', 'PNG', 'PTO', 'SEA', 'SPO', 'SUM', 'TAC',\n",
       "       'PSC', 'VAN', 'AGM', 'BAY', 'GRB', 'MNW', 'MIL', 'MSN', 'CHS',\n",
       "       'CLK', 'BLF', 'CSP', 'XXX', '888', 'UNK', 'CLG', 'EDA', 'YHC',\n",
       "       'HAL', 'MON', 'OTT', 'YXE', 'TOR', 'VCV', 'VIC', 'WIN', 'AMS',\n",
       "       'ARB', 'BAN', 'BEI', 'PEK', 'BDA', 'BOG', 'EZE', 'CUN', 'CRQ',\n",
       "       'MVD', 'DUB', 'FOU', 'FBA', 'MTY', 'HMO', 'GCM', 'GDL', 'HAM',\n",
       "       'ICN', 'IWA', 'CND', 'LAH', 'DUR', 'MAL', 'MDE', 'MEX', 'LHR',\n",
       "       'NBO', 'NAS', 'NCA', 'PTY', 'SPV', 'UIO', 'RIT', 'SNO', 'SLP',\n",
       "       'SAN', 'SRO', 'GRU', 'SHA', 'HIL', 'TOK', 'VER', 'LGW', 'ZZZ',\n",
       "       'CHN', 'CNC', 'MAA', 'AG0', 'BHM', 'BHX', 'CAK', 'FOK', 'LND',\n",
       "       'MAR', 'MLI', 'RIV', 'RME', 'VNY', 'YUM', 'FRG', 'HRL', 'ISP',\n",
       "       'JSJ', 'BUS', 'IAG', 'PHN', 'STN', 'VMB', 'T01', 'PHF', 'DRV',\n",
       "       'FTB', 'GAC', 'GMT', 'JFA', 'JMZ', 'NC8', 'NYL', 'OAI', 'PCW',\n",
       "       'WA5', 'WTR', 'X96', 'XNA', 'YGF', '5T6', '060', 'SP0', 'W55',\n",
       "       'X44', 'AUH', 'RYY', 'SUS', '74S', 'ATW', 'CPX', 'MTH', 'PFN',\n",
       "       'SCH', 'ASI', 'BKF', 'DAY', 'Y62', 'AG', 'BCM', 'DEC', 'PLB', 'CXO',\n",
       "       'JBQ', 'JIG', 'OGS', 'TIW', 'OTS', 'AMT', 'EGE', 'GPI', 'NGL',\n",
       "       'OLM', '.GA', 'CLX', 'CP ', 'FSC', 'NK', 'ADU', 'AKT', 'LIT', 'A2A',\n",
       "       'OSN'], dtype=object)"
      ]
     },
     "execution_count": 122,
     "metadata": {},
     "output_type": "execute_result"
    }
   ],
   "source": [
    "ports_df.toPandas()['code'].unique()"
   ]
  },
  {
   "cell_type": "code",
   "execution_count": 123,
   "metadata": {
    "editable": true
   },
   "outputs": [
    {
     "data": {
      "text/plain": [
       "array(['AL', 'AK', 'AZ', 'AR', 'CA', 'CO', 'CT', 'DE', 'DC', 'FL', 'GA',\n",
       "       'GU', 'HI', 'ID', 'IL', 'IN', 'IA', 'KS', 'KY', 'LA', 'ME', 'MD',\n",
       "       'MA', 'MI', 'MN', 'MS', 'MO', 'MT', 'NC', 'ND', 'NE', 'NV', 'NH',\n",
       "       'NJ', 'NM', 'NY', 'OH', 'OK', 'OR', 'PA', 'PR', 'RI', 'SC', 'SD',\n",
       "       'TN', 'TX', 'UT', 'VT', 'VI', 'VA', 'WV', 'WA', 'WI', 'WY', '99'], dtype=object)"
      ]
     },
     "execution_count": 123,
     "metadata": {},
     "output_type": "execute_result"
    }
   ],
   "source": [
    "states_df.toPandas()['code'].unique()"
   ]
  },
  {
   "cell_type": "code",
   "execution_count": 124,
   "metadata": {
    "editable": true
   },
   "outputs": [
    {
     "data": {
      "text/plain": [
       "array(['ALABAMA', 'ALASKA', 'ARIZONA', 'ARKANSAS', 'CALIFORNIA',\n",
       "       'COLORADO', 'CONNECTICUT', 'DELAWARE', 'DIST. OF COLUMBIA',\n",
       "       'FLORIDA', 'GEORGIA', 'GUAM', 'HAWAII', 'IDAHO', 'ILLINOIS',\n",
       "       'INDIANA', 'IOWA', 'KANSAS', 'KENTUCKY', 'LOUISIANA', 'MAINE',\n",
       "       'MARYLAND', 'MASSACHUSETTS', 'MICHIGAN', 'MINNESOTA', 'MISSISSIPPI',\n",
       "       'MISSOURI', 'MONTANA', 'N. CAROLINA', 'N. DAKOTA', 'NEBRASKA',\n",
       "       'NEVADA', 'NEW HAMPSHIRE', 'NEW JERSEY', 'NEW MEXICO', 'NEW YORK',\n",
       "       'OHIO', 'OKLAHOMA', 'OREGON', 'PENNSYLVANIA', 'PUERTO RICO',\n",
       "       'RHODE ISLAND', 'S. CAROLINA', 'S. DAKOTA', 'TENNESSEE', 'TEXAS',\n",
       "       'UTAH', 'VERMONT', 'VIRGIN ISLANDS', 'VIRGINIA', 'W. VIRGINIA',\n",
       "       'WASHINGTON', 'WISCONSON', 'WYOMING', 'All Other Codes'], dtype=object)"
      ]
     },
     "execution_count": 124,
     "metadata": {},
     "output_type": "execute_result"
    }
   ],
   "source": [
    "states_df.toPandas()['name'].unique()"
   ]
  },
  {
   "cell_type": "code",
   "execution_count": 125,
   "metadata": {
    "editable": true
   },
   "outputs": [
    {
     "data": {
      "text/plain": [
       "55"
      ]
     },
     "execution_count": 125,
     "metadata": {},
     "output_type": "execute_result"
    }
   ],
   "source": [
    "len(states_df.toPandas()['code'].unique())"
   ]
  },
  {
   "cell_type": "markdown",
   "metadata": {
    "editable": true
   },
   "source": [
    "writing a function to check for duplicate rows in the data"
   ]
  },
  {
   "cell_type": "code",
   "execution_count": 126,
   "metadata": {
    "editable": true
   },
   "outputs": [],
   "source": [
    "def find_duplicates(df):\n",
    "    '''\n",
    "    A procedure that looks for duplicate rows in input dataframe, and displays a dataframe of duplicate rows and the number of duplicates in column 'count'\n",
    "    \n",
    "    Parameters\n",
    "    ----------\n",
    "    df : DataFrame\n",
    "        input dataFrame\n",
    "    \n",
    "    Returns\n",
    "    -------\n",
    "    None\n",
    "    '''\n",
    "    \n",
    "    if 'count' in df.columns:\n",
    "        df = df.withColumnRenamed('count', 'cnt')\n",
    "\n",
    "    \n",
    "    display( \\\n",
    "            HTML( \\\n",
    "                 df. \\\n",
    "                 groupby(df.columns) \\\n",
    "                 .count() \\\n",
    "                 .where('count > 1') \\\n",
    "                 .sort('count', ascending=False) \\\n",
    "                 .toPandas() \\\n",
    "                 .to_html()\n",
    "                )\n",
    "           )"
   ]
  },
  {
   "cell_type": "code",
   "execution_count": 127,
   "metadata": {
    "editable": true
   },
   "outputs": [
    {
     "data": {
      "text/html": [
       "<table border=\"1\" class=\"dataframe\">\n",
       "  <thead>\n",
       "    <tr style=\"text-align: right;\">\n",
       "      <th></th>\n",
       "      <th>cicid</th>\n",
       "      <th>i94yr</th>\n",
       "      <th>i94mon</th>\n",
       "      <th>i94cit</th>\n",
       "      <th>i94res</th>\n",
       "      <th>i94port</th>\n",
       "      <th>arrdate</th>\n",
       "      <th>i94mode</th>\n",
       "      <th>i94addr</th>\n",
       "      <th>depdate</th>\n",
       "      <th>i94bir</th>\n",
       "      <th>i94visa</th>\n",
       "      <th>cnt</th>\n",
       "      <th>dtadfile</th>\n",
       "      <th>visapost</th>\n",
       "      <th>occup</th>\n",
       "      <th>entdepa</th>\n",
       "      <th>entdepd</th>\n",
       "      <th>entdepu</th>\n",
       "      <th>matflag</th>\n",
       "      <th>biryear</th>\n",
       "      <th>dtaddto</th>\n",
       "      <th>gender</th>\n",
       "      <th>insnum</th>\n",
       "      <th>airline</th>\n",
       "      <th>admnum</th>\n",
       "      <th>fltno</th>\n",
       "      <th>visatype</th>\n",
       "      <th>count</th>\n",
       "    </tr>\n",
       "  </thead>\n",
       "  <tbody>\n",
       "  </tbody>\n",
       "</table>"
      ],
      "text/plain": [
       "<IPython.core.display.HTML object>"
      ]
     },
     "metadata": {},
     "output_type": "display_data"
    }
   ],
   "source": [
    "# check i94_df for duplicates\n",
    "\n",
    "find_duplicates(i94_df)"
   ]
  },
  {
   "cell_type": "code",
   "execution_count": 128,
   "metadata": {
    "editable": true
   },
   "outputs": [
    {
     "data": {
      "text/html": [
       "<table border=\"1\" class=\"dataframe\">\n",
       "  <thead>\n",
       "    <tr style=\"text-align: right;\">\n",
       "      <th></th>\n",
       "      <th>city</th>\n",
       "      <th>state</th>\n",
       "      <th>median_age</th>\n",
       "      <th>male_population</th>\n",
       "      <th>female_population</th>\n",
       "      <th>total_population</th>\n",
       "      <th>number_of_veterans</th>\n",
       "      <th>foreign_born</th>\n",
       "      <th>average_household_size</th>\n",
       "      <th>state_code</th>\n",
       "      <th>race</th>\n",
       "      <th>cnt</th>\n",
       "      <th>count</th>\n",
       "    </tr>\n",
       "  </thead>\n",
       "  <tbody>\n",
       "  </tbody>\n",
       "</table>"
      ],
      "text/plain": [
       "<IPython.core.display.HTML object>"
      ]
     },
     "metadata": {},
     "output_type": "display_data"
    }
   ],
   "source": [
    "find_duplicates(us_demographics_df)"
   ]
  },
  {
   "cell_type": "code",
   "execution_count": 129,
   "metadata": {
    "editable": true
   },
   "outputs": [
    {
     "data": {
      "text/html": [
       "<table border=\"1\" class=\"dataframe\">\n",
       "  <thead>\n",
       "    <tr style=\"text-align: right;\">\n",
       "      <th></th>\n",
       "      <th>code</th>\n",
       "      <th>name</th>\n",
       "      <th>count</th>\n",
       "    </tr>\n",
       "  </thead>\n",
       "  <tbody>\n",
       "  </tbody>\n",
       "</table>"
      ],
      "text/plain": [
       "<IPython.core.display.HTML object>"
      ]
     },
     "metadata": {},
     "output_type": "display_data"
    }
   ],
   "source": [
    "find_duplicates(countries_df)"
   ]
  },
  {
   "cell_type": "code",
   "execution_count": 130,
   "metadata": {
    "editable": true
   },
   "outputs": [
    {
     "data": {
      "text/html": [
       "<table border=\"1\" class=\"dataframe\">\n",
       "  <thead>\n",
       "    <tr style=\"text-align: right;\">\n",
       "      <th></th>\n",
       "      <th>code</th>\n",
       "      <th>name</th>\n",
       "      <th>count</th>\n",
       "    </tr>\n",
       "  </thead>\n",
       "  <tbody>\n",
       "  </tbody>\n",
       "</table>"
      ],
      "text/plain": [
       "<IPython.core.display.HTML object>"
      ]
     },
     "metadata": {},
     "output_type": "display_data"
    }
   ],
   "source": [
    "find_duplicates(ports_df)"
   ]
  },
  {
   "cell_type": "code",
   "execution_count": 131,
   "metadata": {
    "editable": true
   },
   "outputs": [
    {
     "data": {
      "text/html": [
       "<table border=\"1\" class=\"dataframe\">\n",
       "  <thead>\n",
       "    <tr style=\"text-align: right;\">\n",
       "      <th></th>\n",
       "      <th>code</th>\n",
       "      <th>name</th>\n",
       "      <th>count</th>\n",
       "    </tr>\n",
       "  </thead>\n",
       "  <tbody>\n",
       "  </tbody>\n",
       "</table>"
      ],
      "text/plain": [
       "<IPython.core.display.HTML object>"
      ]
     },
     "metadata": {},
     "output_type": "display_data"
    }
   ],
   "source": [
    "find_duplicates(states_df)"
   ]
  },
  {
   "cell_type": "code",
   "execution_count": 132,
   "metadata": {
    "editable": true
   },
   "outputs": [
    {
     "data": {
      "text/html": [
       "<table border=\"1\" class=\"dataframe\">\n",
       "  <thead>\n",
       "    <tr style=\"text-align: right;\">\n",
       "      <th></th>\n",
       "      <th>code</th>\n",
       "      <th>name</th>\n",
       "      <th>count</th>\n",
       "    </tr>\n",
       "  </thead>\n",
       "  <tbody>\n",
       "  </tbody>\n",
       "</table>"
      ],
      "text/plain": [
       "<IPython.core.display.HTML object>"
      ]
     },
     "metadata": {},
     "output_type": "display_data"
    }
   ],
   "source": [
    "find_duplicates(travel_modes_df)"
   ]
  },
  {
   "cell_type": "code",
   "execution_count": 133,
   "metadata": {
    "editable": true
   },
   "outputs": [
    {
     "data": {
      "text/html": [
       "<table border=\"1\" class=\"dataframe\">\n",
       "  <thead>\n",
       "    <tr style=\"text-align: right;\">\n",
       "      <th></th>\n",
       "      <th>code</th>\n",
       "      <th>name</th>\n",
       "      <th>count</th>\n",
       "    </tr>\n",
       "  </thead>\n",
       "  <tbody>\n",
       "  </tbody>\n",
       "</table>"
      ],
      "text/plain": [
       "<IPython.core.display.HTML object>"
      ]
     },
     "metadata": {},
     "output_type": "display_data"
    }
   ],
   "source": [
    "find_duplicates(visa_categories_df)"
   ]
  },
  {
   "cell_type": "markdown",
   "metadata": {
    "editable": true
   },
   "source": [
    "writing a function to check for missing data i.e. nulls and non-numeric values (NaN)"
   ]
  },
  {
   "cell_type": "code",
   "execution_count": 134,
   "metadata": {
    "editable": true
   },
   "outputs": [],
   "source": [
    "def find_nulls(df):\n",
    "    '''\n",
    "    A procedure that looks for missing data in input dataframe, and displays a dataframe with the number of missing values in each column'\n",
    "    \n",
    "    Parameters\n",
    "    ----------\n",
    "    df : DataFrame\n",
    "        input dataFrame\n",
    "    \n",
    "    Returns\n",
    "    -------\n",
    "    None\n",
    "    '''\n",
    "    display( \\\n",
    "            HTML( \\\n",
    "                 df \\\n",
    "                 .select([F.count(F.when(F.isnan(column) | F.col(column).isNull(), column)) \\\n",
    "                 .alias(column) for column in df.columns]) \\\n",
    "                 .toPandas() \\\n",
    "                 .to_html()\n",
    "                )\n",
    "           )"
   ]
  },
  {
   "cell_type": "code",
   "execution_count": 135,
   "metadata": {
    "editable": true
   },
   "outputs": [],
   "source": [
    "# us_demographics_df, countries_df, ports_df, states_df, travel_modes_df, visa_categories_df"
   ]
  },
  {
   "cell_type": "code",
   "execution_count": 136,
   "metadata": {
    "editable": true
   },
   "outputs": [
    {
     "data": {
      "text/html": [
       "<table border=\"1\" class=\"dataframe\">\n",
       "  <thead>\n",
       "    <tr style=\"text-align: right;\">\n",
       "      <th></th>\n",
       "      <th>cicid</th>\n",
       "      <th>i94yr</th>\n",
       "      <th>i94mon</th>\n",
       "      <th>i94cit</th>\n",
       "      <th>i94res</th>\n",
       "      <th>i94port</th>\n",
       "      <th>arrdate</th>\n",
       "      <th>i94mode</th>\n",
       "      <th>i94addr</th>\n",
       "      <th>depdate</th>\n",
       "      <th>i94bir</th>\n",
       "      <th>i94visa</th>\n",
       "      <th>count</th>\n",
       "      <th>dtadfile</th>\n",
       "      <th>visapost</th>\n",
       "      <th>occup</th>\n",
       "      <th>entdepa</th>\n",
       "      <th>entdepd</th>\n",
       "      <th>entdepu</th>\n",
       "      <th>matflag</th>\n",
       "      <th>biryear</th>\n",
       "      <th>dtaddto</th>\n",
       "      <th>gender</th>\n",
       "      <th>insnum</th>\n",
       "      <th>airline</th>\n",
       "      <th>admnum</th>\n",
       "      <th>fltno</th>\n",
       "      <th>visatype</th>\n",
       "    </tr>\n",
       "  </thead>\n",
       "  <tbody>\n",
       "    <tr>\n",
       "      <th>0</th>\n",
       "      <td>0</td>\n",
       "      <td>0</td>\n",
       "      <td>0</td>\n",
       "      <td>0</td>\n",
       "      <td>0</td>\n",
       "      <td>0</td>\n",
       "      <td>0</td>\n",
       "      <td>239</td>\n",
       "      <td>152592</td>\n",
       "      <td>142457</td>\n",
       "      <td>802</td>\n",
       "      <td>0</td>\n",
       "      <td>0</td>\n",
       "      <td>1</td>\n",
       "      <td>1881250</td>\n",
       "      <td>3088187</td>\n",
       "      <td>238</td>\n",
       "      <td>138429</td>\n",
       "      <td>3095921</td>\n",
       "      <td>138429</td>\n",
       "      <td>802</td>\n",
       "      <td>477</td>\n",
       "      <td>414269</td>\n",
       "      <td>2982605</td>\n",
       "      <td>83627</td>\n",
       "      <td>0</td>\n",
       "      <td>19549</td>\n",
       "      <td>0</td>\n",
       "    </tr>\n",
       "  </tbody>\n",
       "</table>"
      ],
      "text/plain": [
       "<IPython.core.display.HTML object>"
      ]
     },
     "metadata": {},
     "output_type": "display_data"
    }
   ],
   "source": [
    "find_nulls(i94_df)"
   ]
  },
  {
   "cell_type": "code",
   "execution_count": 137,
   "metadata": {
    "editable": true
   },
   "outputs": [
    {
     "data": {
      "text/html": [
       "<table border=\"1\" class=\"dataframe\">\n",
       "  <thead>\n",
       "    <tr style=\"text-align: right;\">\n",
       "      <th></th>\n",
       "      <th>city</th>\n",
       "      <th>state</th>\n",
       "      <th>median_age</th>\n",
       "      <th>male_population</th>\n",
       "      <th>female_population</th>\n",
       "      <th>total_population</th>\n",
       "      <th>number_of_veterans</th>\n",
       "      <th>foreign_born</th>\n",
       "      <th>average_household_size</th>\n",
       "      <th>state_code</th>\n",
       "      <th>race</th>\n",
       "      <th>count</th>\n",
       "    </tr>\n",
       "  </thead>\n",
       "  <tbody>\n",
       "    <tr>\n",
       "      <th>0</th>\n",
       "      <td>0</td>\n",
       "      <td>0</td>\n",
       "      <td>0</td>\n",
       "      <td>3</td>\n",
       "      <td>3</td>\n",
       "      <td>0</td>\n",
       "      <td>13</td>\n",
       "      <td>13</td>\n",
       "      <td>16</td>\n",
       "      <td>0</td>\n",
       "      <td>0</td>\n",
       "      <td>0</td>\n",
       "    </tr>\n",
       "  </tbody>\n",
       "</table>"
      ],
      "text/plain": [
       "<IPython.core.display.HTML object>"
      ]
     },
     "metadata": {},
     "output_type": "display_data"
    }
   ],
   "source": [
    "find_nulls(us_demographics_df)"
   ]
  },
  {
   "cell_type": "code",
   "execution_count": 138,
   "metadata": {
    "editable": true
   },
   "outputs": [
    {
     "data": {
      "text/html": [
       "<table border=\"1\" class=\"dataframe\">\n",
       "  <thead>\n",
       "    <tr style=\"text-align: right;\">\n",
       "      <th></th>\n",
       "      <th>code</th>\n",
       "      <th>name</th>\n",
       "    </tr>\n",
       "  </thead>\n",
       "  <tbody>\n",
       "    <tr>\n",
       "      <th>0</th>\n",
       "      <td>0</td>\n",
       "      <td>0</td>\n",
       "    </tr>\n",
       "  </tbody>\n",
       "</table>"
      ],
      "text/plain": [
       "<IPython.core.display.HTML object>"
      ]
     },
     "metadata": {},
     "output_type": "display_data"
    }
   ],
   "source": [
    "find_nulls(countries_df)"
   ]
  },
  {
   "cell_type": "code",
   "execution_count": 139,
   "metadata": {
    "editable": true
   },
   "outputs": [
    {
     "data": {
      "text/html": [
       "<table border=\"1\" class=\"dataframe\">\n",
       "  <thead>\n",
       "    <tr style=\"text-align: right;\">\n",
       "      <th></th>\n",
       "      <th>code</th>\n",
       "      <th>name</th>\n",
       "    </tr>\n",
       "  </thead>\n",
       "  <tbody>\n",
       "    <tr>\n",
       "      <th>0</th>\n",
       "      <td>0</td>\n",
       "      <td>0</td>\n",
       "    </tr>\n",
       "  </tbody>\n",
       "</table>"
      ],
      "text/plain": [
       "<IPython.core.display.HTML object>"
      ]
     },
     "metadata": {},
     "output_type": "display_data"
    }
   ],
   "source": [
    "find_nulls(ports_df)"
   ]
  },
  {
   "cell_type": "code",
   "execution_count": 140,
   "metadata": {
    "editable": true
   },
   "outputs": [
    {
     "data": {
      "text/html": [
       "<table border=\"1\" class=\"dataframe\">\n",
       "  <thead>\n",
       "    <tr style=\"text-align: right;\">\n",
       "      <th></th>\n",
       "      <th>code</th>\n",
       "      <th>name</th>\n",
       "    </tr>\n",
       "  </thead>\n",
       "  <tbody>\n",
       "    <tr>\n",
       "      <th>0</th>\n",
       "      <td>0</td>\n",
       "      <td>0</td>\n",
       "    </tr>\n",
       "  </tbody>\n",
       "</table>"
      ],
      "text/plain": [
       "<IPython.core.display.HTML object>"
      ]
     },
     "metadata": {},
     "output_type": "display_data"
    }
   ],
   "source": [
    "find_nulls(states_df)"
   ]
  },
  {
   "cell_type": "code",
   "execution_count": 141,
   "metadata": {
    "editable": true
   },
   "outputs": [
    {
     "data": {
      "text/html": [
       "<table border=\"1\" class=\"dataframe\">\n",
       "  <thead>\n",
       "    <tr style=\"text-align: right;\">\n",
       "      <th></th>\n",
       "      <th>code</th>\n",
       "      <th>name</th>\n",
       "    </tr>\n",
       "  </thead>\n",
       "  <tbody>\n",
       "    <tr>\n",
       "      <th>0</th>\n",
       "      <td>0</td>\n",
       "      <td>0</td>\n",
       "    </tr>\n",
       "  </tbody>\n",
       "</table>"
      ],
      "text/plain": [
       "<IPython.core.display.HTML object>"
      ]
     },
     "metadata": {},
     "output_type": "display_data"
    }
   ],
   "source": [
    "find_nulls(travel_modes_df)"
   ]
  },
  {
   "cell_type": "code",
   "execution_count": 142,
   "metadata": {
    "editable": true
   },
   "outputs": [
    {
     "data": {
      "text/html": [
       "<table border=\"1\" class=\"dataframe\">\n",
       "  <thead>\n",
       "    <tr style=\"text-align: right;\">\n",
       "      <th></th>\n",
       "      <th>code</th>\n",
       "      <th>name</th>\n",
       "    </tr>\n",
       "  </thead>\n",
       "  <tbody>\n",
       "    <tr>\n",
       "      <th>0</th>\n",
       "      <td>0</td>\n",
       "      <td>0</td>\n",
       "    </tr>\n",
       "  </tbody>\n",
       "</table>"
      ],
      "text/plain": [
       "<IPython.core.display.HTML object>"
      ]
     },
     "metadata": {},
     "output_type": "display_data"
    }
   ],
   "source": [
    "find_nulls(countries_df)"
   ]
  },
  {
   "cell_type": "code",
   "execution_count": 143,
   "metadata": {
    "editable": true
   },
   "outputs": [
    {
     "data": {
      "text/html": [
       "<table border=\"1\" class=\"dataframe\">\n",
       "  <thead>\n",
       "    <tr style=\"text-align: right;\">\n",
       "      <th></th>\n",
       "      <th>code</th>\n",
       "      <th>name</th>\n",
       "    </tr>\n",
       "  </thead>\n",
       "  <tbody>\n",
       "    <tr>\n",
       "      <th>0</th>\n",
       "      <td>0</td>\n",
       "      <td>0</td>\n",
       "    </tr>\n",
       "  </tbody>\n",
       "</table>"
      ],
      "text/plain": [
       "<IPython.core.display.HTML object>"
      ]
     },
     "metadata": {},
     "output_type": "display_data"
    }
   ],
   "source": [
    "find_nulls(visa_categories_df)"
   ]
  },
  {
   "cell_type": "markdown",
   "metadata": {
    "editable": true
   },
   "source": [
    "Although we found missing data in the US immegration and demographics data, we decided to refrain from dropping the rows containing it at this point. Because we might need other data contained in the same row for our data model. However, we think that the data in the i-94 and ports dataframes require further cleaning."
   ]
  },
  {
   "cell_type": "code",
   "execution_count": 144,
   "metadata": {
    "editable": true
   },
   "outputs": [],
   "source": [
    "# to clean the years in the i_94 dataframe, we'll convert dates from SAS format to Python\n",
    "get_isoformat_date = F.udf(lambda x: (datetime(1960, 1, 1).date() + timedelta(x)).isoformat() if x else None)\n",
    "get_valid_birth_year = F.udf(lambda yr: yr if (yr and 1900 <= yr <= 2016) else None)\n",
    "\n",
    "i94_df =  i94_df \\\n",
    "          .withColumn('arrdate', get_isoformat_date(i94_df.arrdate)) \\\n",
    "          .withColumn('depdate', get_isoformat_date(i94_df.depdate)) \\\n",
    "          .withColumn(\"biryear\", get_valid_birth_year(i94_df.biryear)) \\\n",
    "          .dropDuplicates()"
   ]
  },
  {
   "cell_type": "code",
   "execution_count": 145,
   "metadata": {
    "editable": true
   },
   "outputs": [],
   "source": [
    "# cleaning ports df by splitting city and state names\n",
    "\n",
    "get_city_name = F.udf(lambda port_name: port_name.split(',')[0].strip() if port_name else None)\n",
    "get_state_code = F.udf(lambda port_name: port_name.split(',')[1].strip()\n",
    "                                        if (port_name and len(port_name.split(',')) > 1) else None)\n",
    "\n",
    "ports_df = ports_df \\\n",
    "        .withColumn('city', get_city_name(ports_df.name)) \\\n",
    "        .withColumn('state_code', get_state_code(ports_df.name)) \\\n",
    "        .drop('name') \\\n",
    "        .dropna() \\\n",
    "        .dropDuplicates()"
   ]
  },
  {
   "cell_type": "markdown",
   "metadata": {
    "editable": true
   },
   "source": [
    "### Step 3: Define the Data Model\n",
    "#### 3.1 Conceptual Data Model\n",
    "We will create a Star Schema for better support for OLAP queries. the figure below illustres target the Star Schema. The Schemas for each table will be printed in the following steps"
   ]
  },
  {
   "cell_type": "markdown",
   "metadata": {
    "editable": true
   },
   "source": [
    "![data model star schema](star_schema.png)"
   ]
  },
  {
   "cell_type": "code",
   "execution_count": 57,
   "metadata": {
    "editable": true
   },
   "outputs": [],
   "source": [
    "# creating staging tables\n",
    "i94_df.createOrReplaceTempView('staging_i94')\n",
    "us_demographics_df.createOrReplaceTempView('staging_us_demographics')\n",
    "states_df.createOrReplaceTempView('staging_states')\n",
    "visa_categories_df.createOrReplaceTempView('staging_visa_categories')\n",
    "travel_modes_df.createOrReplaceTempView('staging_travel_modes')\n",
    "ports_df.createOrReplaceTempView('staging_ports')\n",
    "countries_df.createOrReplaceTempView('staging_countries')"
   ]
  },
  {
   "cell_type": "code",
   "execution_count": 147,
   "metadata": {
    "editable": true
   },
   "outputs": [],
   "source": [
    "i_94_fact_table = spark.sql(\"\"\"\n",
    "            SELECT\n",
    "                sid.cicid AS cicid,\n",
    "                sid.i94yr AS entry_year,\n",
    "                sid.i94mon AS entry_month,\n",
    "                sc.code AS origin_country_code,\n",
    "                sp.code AS port_code,\n",
    "                sid.arrdate AS arrival_date,\n",
    "                stm.code AS travel_mode_code,\n",
    "                sus.code AS us_state_code,\n",
    "                sid.depdate AS departure_date,\n",
    "                sid.i94bir AS age,\n",
    "                svc.code AS visa_category_code,\n",
    "                sid.occup AS occupation,\n",
    "                sid.gender AS gender,\n",
    "                sid.biryear AS birth_year,\n",
    "                sid.dtaddto AS entry_date,\n",
    "                sid.airline AS airline,\n",
    "                sid.admnum AS admission_number,\n",
    "                sid.fltno AS flight_number,\n",
    "                sid.visatype AS visa_type\n",
    "            FROM staging_i94 sid\n",
    "                LEFT JOIN staging_countries sc ON sc.code = sid.i94res\n",
    "                LEFT JOIN staging_ports sp ON sp.code = sid.i94port\n",
    "                LEFT JOIN staging_states sus ON sus.code = sid.i94addr\n",
    "                LEFT JOIN staging_visa_categories svc ON svc.code = sid.i94visa\n",
    "                LEFT JOIN staging_travel_modes stm ON stm.code = sid.i94mode\n",
    "            WHERE \n",
    "                sc.code IS NOT NULL AND\n",
    "                sp.code IS NOT NULL AND\n",
    "                sus.code IS NOT NULL AND\n",
    "                stm.code IS NOT NULL AND\n",
    "                svc.code IS NOT NULL\n",
    "        \"\"\")"
   ]
  },
  {
   "cell_type": "code",
   "execution_count": 148,
   "metadata": {
    "editable": true
   },
   "outputs": [
    {
     "name": "stdout",
     "output_type": "stream",
     "text": [
      "root\n",
      " |-- cicid: double (nullable = true)\n",
      " |-- entry_year: double (nullable = true)\n",
      " |-- entry_month: double (nullable = true)\n",
      " |-- origin_country_code: string (nullable = true)\n",
      " |-- port_code: string (nullable = true)\n",
      " |-- arrival_date: double (nullable = true)\n",
      " |-- travel_mode_code: string (nullable = true)\n",
      " |-- us_state_code: string (nullable = true)\n",
      " |-- departure_date: double (nullable = true)\n",
      " |-- age: double (nullable = true)\n",
      " |-- visa_category_code: string (nullable = true)\n",
      " |-- occupation: string (nullable = true)\n",
      " |-- gender: string (nullable = true)\n",
      " |-- birth_year: double (nullable = true)\n",
      " |-- entry_date: string (nullable = true)\n",
      " |-- airline: string (nullable = true)\n",
      " |-- admission_number: double (nullable = true)\n",
      " |-- flight_number: string (nullable = true)\n",
      " |-- visa_type: string (nullable = true)\n",
      "\n"
     ]
    }
   ],
   "source": [
    "i_94_fact_table.printSchema()"
   ]
  },
  {
   "cell_type": "code",
   "execution_count": 149,
   "metadata": {
    "editable": true
   },
   "outputs": [
    {
     "data": {
      "text/html": [
       "<div>\n",
       "<style scoped>\n",
       "    .dataframe tbody tr th:only-of-type {\n",
       "        vertical-align: middle;\n",
       "    }\n",
       "\n",
       "    .dataframe tbody tr th {\n",
       "        vertical-align: top;\n",
       "    }\n",
       "\n",
       "    .dataframe thead th {\n",
       "        text-align: right;\n",
       "    }\n",
       "</style>\n",
       "<table border=\"1\" class=\"dataframe\">\n",
       "  <thead>\n",
       "    <tr style=\"text-align: right;\">\n",
       "      <th></th>\n",
       "      <th>cicid</th>\n",
       "      <th>entry_year</th>\n",
       "      <th>entry_month</th>\n",
       "      <th>origin_country_code</th>\n",
       "      <th>port_code</th>\n",
       "      <th>arrival_date</th>\n",
       "      <th>travel_mode_code</th>\n",
       "      <th>us_state_code</th>\n",
       "      <th>departure_date</th>\n",
       "      <th>age</th>\n",
       "      <th>visa_category_code</th>\n",
       "      <th>occupation</th>\n",
       "      <th>gender</th>\n",
       "      <th>birth_year</th>\n",
       "      <th>entry_date</th>\n",
       "      <th>airline</th>\n",
       "      <th>admission_number</th>\n",
       "      <th>flight_number</th>\n",
       "      <th>visa_type</th>\n",
       "    </tr>\n",
       "  </thead>\n",
       "  <tbody>\n",
       "    <tr>\n",
       "      <th>0</th>\n",
       "      <td>3386206.0</td>\n",
       "      <td>2016.0</td>\n",
       "      <td>4.0</td>\n",
       "      <td>438</td>\n",
       "      <td>FMY</td>\n",
       "      <td>20562.0</td>\n",
       "      <td>1</td>\n",
       "      <td>AZ</td>\n",
       "      <td>20568.0</td>\n",
       "      <td>54.0</td>\n",
       "      <td>1</td>\n",
       "      <td>None</td>\n",
       "      <td>M</td>\n",
       "      <td>1962.0</td>\n",
       "      <td>07162016</td>\n",
       "      <td>QF</td>\n",
       "      <td>5.635993e+10</td>\n",
       "      <td>00093</td>\n",
       "      <td>WB</td>\n",
       "    </tr>\n",
       "    <tr>\n",
       "      <th>1</th>\n",
       "      <td>5095747.0</td>\n",
       "      <td>2016.0</td>\n",
       "      <td>4.0</td>\n",
       "      <td>504</td>\n",
       "      <td>ORL</td>\n",
       "      <td>20571.0</td>\n",
       "      <td>1</td>\n",
       "      <td>FL</td>\n",
       "      <td>20576.0</td>\n",
       "      <td>29.0</td>\n",
       "      <td>2</td>\n",
       "      <td>None</td>\n",
       "      <td>F</td>\n",
       "      <td>1987.0</td>\n",
       "      <td>10262016</td>\n",
       "      <td>*GA</td>\n",
       "      <td>9.466116e+10</td>\n",
       "      <td>N329C</td>\n",
       "      <td>B2</td>\n",
       "    </tr>\n",
       "    <tr>\n",
       "      <th>2</th>\n",
       "      <td>3381198.0</td>\n",
       "      <td>2016.0</td>\n",
       "      <td>4.0</td>\n",
       "      <td>268</td>\n",
       "      <td>FMY</td>\n",
       "      <td>20562.0</td>\n",
       "      <td>1</td>\n",
       "      <td>AZ</td>\n",
       "      <td>20567.0</td>\n",
       "      <td>37.0</td>\n",
       "      <td>1</td>\n",
       "      <td>None</td>\n",
       "      <td>M</td>\n",
       "      <td>1979.0</td>\n",
       "      <td>07162016</td>\n",
       "      <td>CI</td>\n",
       "      <td>5.639123e+10</td>\n",
       "      <td>00006</td>\n",
       "      <td>WB</td>\n",
       "    </tr>\n",
       "    <tr>\n",
       "      <th>3</th>\n",
       "      <td>2500813.0</td>\n",
       "      <td>2016.0</td>\n",
       "      <td>4.0</td>\n",
       "      <td>129</td>\n",
       "      <td>LOS</td>\n",
       "      <td>20558.0</td>\n",
       "      <td>1</td>\n",
       "      <td>CA</td>\n",
       "      <td>20568.0</td>\n",
       "      <td>67.0</td>\n",
       "      <td>2</td>\n",
       "      <td>None</td>\n",
       "      <td>F</td>\n",
       "      <td>1949.0</td>\n",
       "      <td>07122016</td>\n",
       "      <td>IB</td>\n",
       "      <td>5.616357e+10</td>\n",
       "      <td>06171</td>\n",
       "      <td>WT</td>\n",
       "    </tr>\n",
       "    <tr>\n",
       "      <th>4</th>\n",
       "      <td>803901.0</td>\n",
       "      <td>2016.0</td>\n",
       "      <td>4.0</td>\n",
       "      <td>689</td>\n",
       "      <td>FMY</td>\n",
       "      <td>20548.0</td>\n",
       "      <td>1</td>\n",
       "      <td>AZ</td>\n",
       "      <td>20552.0</td>\n",
       "      <td>55.0</td>\n",
       "      <td>1</td>\n",
       "      <td>None</td>\n",
       "      <td>M</td>\n",
       "      <td>1961.0</td>\n",
       "      <td>10032016</td>\n",
       "      <td>AA</td>\n",
       "      <td>9.271847e+10</td>\n",
       "      <td>00216</td>\n",
       "      <td>B1</td>\n",
       "    </tr>\n",
       "  </tbody>\n",
       "</table>\n",
       "</div>"
      ],
      "text/plain": [
       "       cicid  entry_year  entry_month origin_country_code port_code  \\\n",
       "0  3386206.0      2016.0          4.0                 438       FMY   \n",
       "1  5095747.0      2016.0          4.0                 504       ORL   \n",
       "2  3381198.0      2016.0          4.0                 268       FMY   \n",
       "3  2500813.0      2016.0          4.0                 129       LOS   \n",
       "4   803901.0      2016.0          4.0                 689       FMY   \n",
       "\n",
       "   arrival_date travel_mode_code us_state_code  departure_date   age  \\\n",
       "0       20562.0                1            AZ         20568.0  54.0   \n",
       "1       20571.0                1            FL         20576.0  29.0   \n",
       "2       20562.0                1            AZ         20567.0  37.0   \n",
       "3       20558.0                1            CA         20568.0  67.0   \n",
       "4       20548.0                1            AZ         20552.0  55.0   \n",
       "\n",
       "  visa_category_code occupation gender  birth_year entry_date airline  \\\n",
       "0                  1       None      M      1962.0   07162016      QF   \n",
       "1                  2       None      F      1987.0   10262016     *GA   \n",
       "2                  1       None      M      1979.0   07162016      CI   \n",
       "3                  2       None      F      1949.0   07122016      IB   \n",
       "4                  1       None      M      1961.0   10032016      AA   \n",
       "\n",
       "   admission_number flight_number visa_type  \n",
       "0      5.635993e+10         00093        WB  \n",
       "1      9.466116e+10         N329C        B2  \n",
       "2      5.639123e+10         00006        WB  \n",
       "3      5.616357e+10         06171        WT  \n",
       "4      9.271847e+10         00216        B1  "
      ]
     },
     "execution_count": 149,
     "metadata": {},
     "output_type": "execute_result"
    }
   ],
   "source": [
    "i_94_fact_table.limit(5).toPandas()"
   ]
  },
  {
   "cell_type": "code",
   "execution_count": 150,
   "metadata": {
    "editable": true
   },
   "outputs": [],
   "source": [
    "aggregated_sum_df = spark.sql(\"\"\"\n",
    "            SELECT\n",
    "                sud.city,\n",
    "                sud.state_code,\n",
    "                SUM(sud.male_population) AS male_population,\n",
    "                SUM(sud.female_population) AS female_population,\n",
    "                SUM(sud.total_population) AS total_population,\n",
    "                SUM(sud.number_of_veterans) AS number_of_veterans,\n",
    "                SUM(sud.foreign_born) AS num_foreign_born\n",
    "            FROM staging_us_demographics sud\n",
    "            GROUP BY sud.city, sud.state_code\n",
    "        \"\"\")"
   ]
  },
  {
   "cell_type": "code",
   "execution_count": 151,
   "metadata": {
    "editable": true
   },
   "outputs": [
    {
     "data": {
      "text/html": [
       "<div>\n",
       "<style scoped>\n",
       "    .dataframe tbody tr th:only-of-type {\n",
       "        vertical-align: middle;\n",
       "    }\n",
       "\n",
       "    .dataframe tbody tr th {\n",
       "        vertical-align: top;\n",
       "    }\n",
       "\n",
       "    .dataframe thead th {\n",
       "        text-align: right;\n",
       "    }\n",
       "</style>\n",
       "<table border=\"1\" class=\"dataframe\">\n",
       "  <thead>\n",
       "    <tr style=\"text-align: right;\">\n",
       "      <th></th>\n",
       "      <th>city</th>\n",
       "      <th>state_code</th>\n",
       "      <th>male_population</th>\n",
       "      <th>female_population</th>\n",
       "      <th>total_population</th>\n",
       "      <th>number_of_veterans</th>\n",
       "      <th>num_foreign_born</th>\n",
       "    </tr>\n",
       "  </thead>\n",
       "  <tbody>\n",
       "    <tr>\n",
       "      <th>0</th>\n",
       "      <td>Mesa</td>\n",
       "      <td>AZ</td>\n",
       "      <td>1174990</td>\n",
       "      <td>1184175</td>\n",
       "      <td>2359165</td>\n",
       "      <td>159040</td>\n",
       "      <td>287460</td>\n",
       "    </tr>\n",
       "    <tr>\n",
       "      <th>1</th>\n",
       "      <td>Norwalk</td>\n",
       "      <td>CA</td>\n",
       "      <td>265625</td>\n",
       "      <td>270100</td>\n",
       "      <td>535725</td>\n",
       "      <td>15135</td>\n",
       "      <td>196980</td>\n",
       "    </tr>\n",
       "    <tr>\n",
       "      <th>2</th>\n",
       "      <td>Asheville</td>\n",
       "      <td>NC</td>\n",
       "      <td>210500</td>\n",
       "      <td>232035</td>\n",
       "      <td>442535</td>\n",
       "      <td>24865</td>\n",
       "      <td>33150</td>\n",
       "    </tr>\n",
       "    <tr>\n",
       "      <th>3</th>\n",
       "      <td>Minneapolis</td>\n",
       "      <td>MN</td>\n",
       "      <td>1032735</td>\n",
       "      <td>1021940</td>\n",
       "      <td>2054675</td>\n",
       "      <td>76085</td>\n",
       "      <td>353845</td>\n",
       "    </tr>\n",
       "    <tr>\n",
       "      <th>4</th>\n",
       "      <td>Waukegan</td>\n",
       "      <td>IL</td>\n",
       "      <td>227570</td>\n",
       "      <td>214165</td>\n",
       "      <td>441735</td>\n",
       "      <td>17020</td>\n",
       "      <td>154985</td>\n",
       "    </tr>\n",
       "  </tbody>\n",
       "</table>\n",
       "</div>"
      ],
      "text/plain": [
       "          city state_code  male_population  female_population  \\\n",
       "0         Mesa         AZ          1174990            1184175   \n",
       "1      Norwalk         CA           265625             270100   \n",
       "2    Asheville         NC           210500             232035   \n",
       "3  Minneapolis         MN          1032735            1021940   \n",
       "4     Waukegan         IL           227570             214165   \n",
       "\n",
       "   total_population  number_of_veterans  num_foreign_born  \n",
       "0           2359165              159040            287460  \n",
       "1            535725               15135            196980  \n",
       "2            442535               24865             33150  \n",
       "3           2054675               76085            353845  \n",
       "4            441735               17020            154985  "
      ]
     },
     "execution_count": 151,
     "metadata": {},
     "output_type": "execute_result"
    }
   ],
   "source": [
    "aggregated_sum_df.limit(5).toPandas()"
   ]
  },
  {
   "cell_type": "code",
   "execution_count": 152,
   "metadata": {
    "editable": true
   },
   "outputs": [],
   "source": [
    "aggregated_sum_df.createOrReplaceTempView('aggregated_demographics')"
   ]
  },
  {
   "cell_type": "code",
   "execution_count": 153,
   "metadata": {
    "editable": true
   },
   "outputs": [],
   "source": [
    "city_dim_table = spark.sql(\"\"\"\n",
    "            SELECT\n",
    "                sp.code AS port_code,\n",
    "                ad.*\n",
    "            FROM staging_ports sp\n",
    "                JOIN aggregated_demographics ad \n",
    "                    ON lower(ad.city) = lower(sp.city) AND ad.state_code = sp.state_code\n",
    "        \"\"\")"
   ]
  },
  {
   "cell_type": "code",
   "execution_count": 154,
   "metadata": {
    "editable": true
   },
   "outputs": [
    {
     "name": "stdout",
     "output_type": "stream",
     "text": [
      "root\n",
      " |-- port_code: string (nullable = true)\n",
      " |-- city: string (nullable = true)\n",
      " |-- state_code: string (nullable = true)\n",
      " |-- male_population: long (nullable = true)\n",
      " |-- female_population: long (nullable = true)\n",
      " |-- total_population: long (nullable = true)\n",
      " |-- number_of_veterans: long (nullable = true)\n",
      " |-- num_foreign_born: long (nullable = true)\n",
      "\n"
     ]
    }
   ],
   "source": [
    "city_dim_table.printSchema()"
   ]
  },
  {
   "cell_type": "code",
   "execution_count": 155,
   "metadata": {
    "editable": true
   },
   "outputs": [
    {
     "data": {
      "text/html": [
       "<div>\n",
       "<style scoped>\n",
       "    .dataframe tbody tr th:only-of-type {\n",
       "        vertical-align: middle;\n",
       "    }\n",
       "\n",
       "    .dataframe tbody tr th {\n",
       "        vertical-align: top;\n",
       "    }\n",
       "\n",
       "    .dataframe thead th {\n",
       "        text-align: right;\n",
       "    }\n",
       "</style>\n",
       "<table border=\"1\" class=\"dataframe\">\n",
       "  <thead>\n",
       "    <tr style=\"text-align: right;\">\n",
       "      <th></th>\n",
       "      <th>port_code</th>\n",
       "      <th>city</th>\n",
       "      <th>state_code</th>\n",
       "      <th>male_population</th>\n",
       "      <th>female_population</th>\n",
       "      <th>total_population</th>\n",
       "      <th>number_of_veterans</th>\n",
       "      <th>num_foreign_born</th>\n",
       "    </tr>\n",
       "  </thead>\n",
       "  <tbody>\n",
       "    <tr>\n",
       "      <th>0</th>\n",
       "      <td>MLB</td>\n",
       "      <td>Melbourne</td>\n",
       "      <td>FL</td>\n",
       "      <td>195900</td>\n",
       "      <td>204780</td>\n",
       "      <td>400680</td>\n",
       "      <td>41815</td>\n",
       "      <td>48425</td>\n",
       "    </tr>\n",
       "    <tr>\n",
       "      <th>1</th>\n",
       "      <td>GRP</td>\n",
       "      <td>Grand Rapids</td>\n",
       "      <td>MI</td>\n",
       "      <td>478345</td>\n",
       "      <td>497150</td>\n",
       "      <td>975495</td>\n",
       "      <td>44860</td>\n",
       "      <td>95880</td>\n",
       "    </tr>\n",
       "    <tr>\n",
       "      <th>2</th>\n",
       "      <td>CRP</td>\n",
       "      <td>Corpus Christi</td>\n",
       "      <td>TX</td>\n",
       "      <td>802440</td>\n",
       "      <td>817970</td>\n",
       "      <td>1620410</td>\n",
       "      <td>125390</td>\n",
       "      <td>154170</td>\n",
       "    </tr>\n",
       "    <tr>\n",
       "      <th>3</th>\n",
       "      <td>NYC</td>\n",
       "      <td>New York</td>\n",
       "      <td>NY</td>\n",
       "      <td>20408490</td>\n",
       "      <td>22343535</td>\n",
       "      <td>42752025</td>\n",
       "      <td>784805</td>\n",
       "      <td>16062500</td>\n",
       "    </tr>\n",
       "    <tr>\n",
       "      <th>4</th>\n",
       "      <td>WPB</td>\n",
       "      <td>West Palm Beach</td>\n",
       "      <td>FL</td>\n",
       "      <td>246310</td>\n",
       "      <td>287600</td>\n",
       "      <td>533910</td>\n",
       "      <td>24585</td>\n",
       "      <td>153375</td>\n",
       "    </tr>\n",
       "  </tbody>\n",
       "</table>\n",
       "</div>"
      ],
      "text/plain": [
       "  port_code             city state_code  male_population  female_population  \\\n",
       "0       MLB        Melbourne         FL           195900             204780   \n",
       "1       GRP     Grand Rapids         MI           478345             497150   \n",
       "2       CRP   Corpus Christi         TX           802440             817970   \n",
       "3       NYC         New York         NY         20408490           22343535   \n",
       "4       WPB  West Palm Beach         FL           246310             287600   \n",
       "\n",
       "   total_population  number_of_veterans  num_foreign_born  \n",
       "0            400680               41815             48425  \n",
       "1            975495               44860             95880  \n",
       "2           1620410              125390            154170  \n",
       "3          42752025              784805          16062500  \n",
       "4            533910               24585            153375  "
      ]
     },
     "execution_count": 155,
     "metadata": {},
     "output_type": "execute_result"
    }
   ],
   "source": [
    "city_dim_table.limit(5).toPandas()"
   ]
  },
  {
   "cell_type": "code",
   "execution_count": 156,
   "metadata": {
    "editable": true
   },
   "outputs": [
    {
     "data": {
      "text/html": [
       "<div>\n",
       "<style scoped>\n",
       "    .dataframe tbody tr th:only-of-type {\n",
       "        vertical-align: middle;\n",
       "    }\n",
       "\n",
       "    .dataframe tbody tr th {\n",
       "        vertical-align: top;\n",
       "    }\n",
       "\n",
       "    .dataframe thead th {\n",
       "        text-align: right;\n",
       "    }\n",
       "</style>\n",
       "<table border=\"1\" class=\"dataframe\">\n",
       "  <thead>\n",
       "    <tr style=\"text-align: right;\">\n",
       "      <th></th>\n",
       "      <th>code</th>\n",
       "      <th>city</th>\n",
       "      <th>state_code</th>\n",
       "    </tr>\n",
       "  </thead>\n",
       "  <tbody>\n",
       "    <tr>\n",
       "      <th>216</th>\n",
       "      <td>AST</td>\n",
       "      <td>ASTORIA</td>\n",
       "      <td>OR</td>\n",
       "    </tr>\n",
       "    <tr>\n",
       "      <th>265</th>\n",
       "      <td>PDN</td>\n",
       "      <td>PASO DEL NORTE</td>\n",
       "      <td>TX</td>\n",
       "    </tr>\n",
       "    <tr>\n",
       "      <th>313</th>\n",
       "      <td>EZE</td>\n",
       "      <td>BUENOS AIRES</td>\n",
       "      <td>MINISTRO PIST</td>\n",
       "    </tr>\n",
       "    <tr>\n",
       "      <th>267</th>\n",
       "      <td>SPE</td>\n",
       "      <td>ST PETERSBURG</td>\n",
       "      <td>FL</td>\n",
       "    </tr>\n",
       "    <tr>\n",
       "      <th>223</th>\n",
       "      <td>AKR</td>\n",
       "      <td>AKRON</td>\n",
       "      <td>OH</td>\n",
       "    </tr>\n",
       "  </tbody>\n",
       "</table>\n",
       "</div>"
      ],
      "text/plain": [
       "    code            city     state_code\n",
       "216  AST         ASTORIA             OR\n",
       "265  PDN  PASO DEL NORTE             TX\n",
       "313  EZE    BUENOS AIRES  MINISTRO PIST\n",
       "267  SPE   ST PETERSBURG             FL\n",
       "223  AKR           AKRON             OH"
      ]
     },
     "execution_count": 156,
     "metadata": {},
     "output_type": "execute_result"
    }
   ],
   "source": [
    "ports_dim_table = ports_df\n",
    "ports_dim_table.toPandas().sample(5)"
   ]
  },
  {
   "cell_type": "code",
   "execution_count": 157,
   "metadata": {
    "editable": true
   },
   "outputs": [
    {
     "name": "stdout",
     "output_type": "stream",
     "text": [
      "root\n",
      " |-- code: string (nullable = true)\n",
      " |-- city: string (nullable = true)\n",
      " |-- state_code: string (nullable = true)\n",
      "\n"
     ]
    }
   ],
   "source": [
    "ports_dim_table.printSchema()"
   ]
  },
  {
   "cell_type": "code",
   "execution_count": 158,
   "metadata": {
    "editable": true
   },
   "outputs": [],
   "source": [
    "states_dim_table = states_df"
   ]
  },
  {
   "cell_type": "code",
   "execution_count": 159,
   "metadata": {
    "editable": true
   },
   "outputs": [
    {
     "name": "stdout",
     "output_type": "stream",
     "text": [
      "root\n",
      " |-- code: string (nullable = true)\n",
      " |-- name: string (nullable = true)\n",
      "\n"
     ]
    }
   ],
   "source": [
    "states_dim_table.printSchema()"
   ]
  },
  {
   "cell_type": "code",
   "execution_count": 160,
   "metadata": {
    "editable": true
   },
   "outputs": [],
   "source": [
    "countries_dim_table = countries_df"
   ]
  },
  {
   "cell_type": "code",
   "execution_count": 161,
   "metadata": {
    "editable": true
   },
   "outputs": [
    {
     "name": "stdout",
     "output_type": "stream",
     "text": [
      "root\n",
      " |-- code: string (nullable = true)\n",
      " |-- name: string (nullable = true)\n",
      "\n"
     ]
    }
   ],
   "source": [
    "countries_dim_table.printSchema()"
   ]
  },
  {
   "cell_type": "code",
   "execution_count": 162,
   "metadata": {
    "editable": true
   },
   "outputs": [
    {
     "name": "stdout",
     "output_type": "stream",
     "text": [
      "root\n",
      " |-- code: string (nullable = true)\n",
      " |-- name: string (nullable = true)\n",
      "\n"
     ]
    }
   ],
   "source": [
    "travel_modes_dim_table = travel_modes_df\n",
    "travel_modes_dim_table.printSchema()"
   ]
  },
  {
   "cell_type": "code",
   "execution_count": 163,
   "metadata": {
    "editable": true
   },
   "outputs": [
    {
     "name": "stdout",
     "output_type": "stream",
     "text": [
      "root\n",
      " |-- code: string (nullable = true)\n",
      " |-- name: string (nullable = true)\n",
      "\n"
     ]
    }
   ],
   "source": [
    "visa_categories_dim_table = visa_categories_df\n",
    "visa_categories_dim_table.printSchema()"
   ]
  },
  {
   "cell_type": "markdown",
   "metadata": {
    "editable": true
   },
   "source": [
    "printed schemas conform with the target star schema illustratted in the figure above"
   ]
  },
  {
   "cell_type": "code",
   "execution_count": 165,
   "metadata": {
    "editable": true
   },
   "outputs": [],
   "source": [
    "# save dataframes into Apache Parquet columnar format\n",
    "i_94_fact_table.write.parquet(\"i_94_fact_table\")\n",
    "city_dim_table.write.parquet(\"city_dim_table\")\n",
    "ports_dim_table.write.parquet(\"ports_dim_table\")\n",
    "states_dim_table.write.parquet(\"states_dim_table\")\n",
    "countries_dim_table.write.parquet(\"countries_dim_table\")\n",
    "travel_modes_dim_table.write.parquet(\"travel_modes_dim_table\")\n",
    "visa_categories_dim_table.write.parquet(\"visa_categories_dim_table\")"
   ]
  },
  {
   "cell_type": "markdown",
   "metadata": {
    "editable": true
   },
   "source": [
    "#### 3.2 Mapping Out Data Pipelines\n",
    "the steps necessary to pipeline (ingest, clean, populate tables) the data into the chosen data model:\n",
    "1. load US [immegration data](https://travel.trade.gov/research/reports/i94/historical/2016.html) and [demographic data](https://public.opendatasoft.com/explore/dataset/us-cities-demographics/export/) from sources.\n",
    "2. Extract label data from the SAS label description file, excluding unnecessary spaces and characters.\n",
    "3. Further clean the ports' data by splitting the cities from states.\n",
    "4. Create dimension table from cleaned data extracted from SAS label description file. \n",
    "5. Investigate for duplicate rows and missing values, drop if necessary.\n",
    "6. Create facts and dimensions table by joining immigration, demographic tables, and corresponding columns in dimension tables.\n",
    "7. Perform data quality checks on fact and dimension tables.\n",
    "8. Save dataframes into Apache Parquet columnar format."
   ]
  },
  {
   "cell_type": "markdown",
   "metadata": {
    "editable": true
   },
   "source": [
    "#### 4.2 Data Quality Checks\n",
    "we'll performthe following data quality checks:\n",
    " * Integrity constraints on the relational database (e.g., unique key, data type, etc.)\n",
    " * Unit tests for the scripts to ensure they are doing the right thing\n",
    " * Source/Count checks to ensure completeness\n",
    " \n",
    "Run Quality Checks"
   ]
  },
  {
   "cell_type": "code",
   "execution_count": 166,
   "metadata": {
    "editable": true
   },
   "outputs": [],
   "source": [
    "# set the spark session configration to reduce data shuffling\n",
    "spark.conf.set(\"spark.sql.shuffle.partitions\", 50)"
   ]
  },
  {
   "cell_type": "code",
   "execution_count": 169,
   "metadata": {
    "editable": true
   },
   "outputs": [],
   "source": [
    "# load data from parquet files\n",
    "i_94_fact_table = spark.read.parquet(\"i_94_fact_table\")\n",
    "city_dim_table = spark.read.parquet(\"city_dim_table\")\n",
    "ports_dim_table = spark.read.parquet(\"ports_dim_table\")\n",
    "states_dim_table = spark.read.parquet(\"states_dim_table\")\n",
    "countries_dim_table = spark.read.parquet(\"countries_dim_table\")\n",
    "travel_modes_dim_table = spark.read.parquet(\"travel_modes_dim_table\")\n",
    "visa_categories_dim_table = spark.read.parquet(\"visa_categories_dim_table\")"
   ]
  },
  {
   "cell_type": "markdown",
   "metadata": {
    "editable": true
   },
   "source": [
    "checking for duplicate rows in each table"
   ]
  },
  {
   "cell_type": "code",
   "execution_count": 170,
   "metadata": {
    "editable": true
   },
   "outputs": [
    {
     "data": {
      "text/html": [
       "<table border=\"1\" class=\"dataframe\">\n",
       "  <thead>\n",
       "    <tr style=\"text-align: right;\">\n",
       "      <th></th>\n",
       "      <th>cicid</th>\n",
       "      <th>entry_year</th>\n",
       "      <th>entry_month</th>\n",
       "      <th>origin_country_code</th>\n",
       "      <th>port_code</th>\n",
       "      <th>arrival_date</th>\n",
       "      <th>travel_mode_code</th>\n",
       "      <th>us_state_code</th>\n",
       "      <th>departure_date</th>\n",
       "      <th>age</th>\n",
       "      <th>visa_category_code</th>\n",
       "      <th>occupation</th>\n",
       "      <th>gender</th>\n",
       "      <th>birth_year</th>\n",
       "      <th>entry_date</th>\n",
       "      <th>airline</th>\n",
       "      <th>admission_number</th>\n",
       "      <th>flight_number</th>\n",
       "      <th>visa_type</th>\n",
       "      <th>count</th>\n",
       "    </tr>\n",
       "  </thead>\n",
       "  <tbody>\n",
       "  </tbody>\n",
       "</table>"
      ],
      "text/plain": [
       "<IPython.core.display.HTML object>"
      ]
     },
     "metadata": {},
     "output_type": "display_data"
    }
   ],
   "source": [
    "find_duplicates(i_94_fact_table)"
   ]
  },
  {
   "cell_type": "code",
   "execution_count": 171,
   "metadata": {
    "editable": true
   },
   "outputs": [
    {
     "data": {
      "text/html": [
       "<table border=\"1\" class=\"dataframe\">\n",
       "  <thead>\n",
       "    <tr style=\"text-align: right;\">\n",
       "      <th></th>\n",
       "      <th>port_code</th>\n",
       "      <th>city</th>\n",
       "      <th>state_code</th>\n",
       "      <th>male_population</th>\n",
       "      <th>female_population</th>\n",
       "      <th>total_population</th>\n",
       "      <th>number_of_veterans</th>\n",
       "      <th>num_foreign_born</th>\n",
       "      <th>count</th>\n",
       "    </tr>\n",
       "  </thead>\n",
       "  <tbody>\n",
       "  </tbody>\n",
       "</table>"
      ],
      "text/plain": [
       "<IPython.core.display.HTML object>"
      ]
     },
     "metadata": {},
     "output_type": "display_data"
    }
   ],
   "source": [
    "find_duplicates(city_dim_table)"
   ]
  },
  {
   "cell_type": "code",
   "execution_count": 172,
   "metadata": {
    "editable": true
   },
   "outputs": [
    {
     "data": {
      "text/html": [
       "<table border=\"1\" class=\"dataframe\">\n",
       "  <thead>\n",
       "    <tr style=\"text-align: right;\">\n",
       "      <th></th>\n",
       "      <th>code</th>\n",
       "      <th>city</th>\n",
       "      <th>state_code</th>\n",
       "      <th>count</th>\n",
       "    </tr>\n",
       "  </thead>\n",
       "  <tbody>\n",
       "  </tbody>\n",
       "</table>"
      ],
      "text/plain": [
       "<IPython.core.display.HTML object>"
      ]
     },
     "metadata": {},
     "output_type": "display_data"
    }
   ],
   "source": [
    "find_duplicates(ports_dim_table)"
   ]
  },
  {
   "cell_type": "code",
   "execution_count": 173,
   "metadata": {
    "editable": true
   },
   "outputs": [
    {
     "data": {
      "text/html": [
       "<table border=\"1\" class=\"dataframe\">\n",
       "  <thead>\n",
       "    <tr style=\"text-align: right;\">\n",
       "      <th></th>\n",
       "      <th>code</th>\n",
       "      <th>name</th>\n",
       "      <th>count</th>\n",
       "    </tr>\n",
       "  </thead>\n",
       "  <tbody>\n",
       "  </tbody>\n",
       "</table>"
      ],
      "text/plain": [
       "<IPython.core.display.HTML object>"
      ]
     },
     "metadata": {},
     "output_type": "display_data"
    }
   ],
   "source": [
    "find_duplicates(states_dim_table)"
   ]
  },
  {
   "cell_type": "code",
   "execution_count": 174,
   "metadata": {
    "editable": true
   },
   "outputs": [
    {
     "data": {
      "text/html": [
       "<table border=\"1\" class=\"dataframe\">\n",
       "  <thead>\n",
       "    <tr style=\"text-align: right;\">\n",
       "      <th></th>\n",
       "      <th>code</th>\n",
       "      <th>name</th>\n",
       "      <th>count</th>\n",
       "    </tr>\n",
       "  </thead>\n",
       "  <tbody>\n",
       "  </tbody>\n",
       "</table>"
      ],
      "text/plain": [
       "<IPython.core.display.HTML object>"
      ]
     },
     "metadata": {},
     "output_type": "display_data"
    }
   ],
   "source": [
    "find_duplicates(countries_dim_table)"
   ]
  },
  {
   "cell_type": "code",
   "execution_count": 175,
   "metadata": {
    "editable": true
   },
   "outputs": [
    {
     "data": {
      "text/html": [
       "<table border=\"1\" class=\"dataframe\">\n",
       "  <thead>\n",
       "    <tr style=\"text-align: right;\">\n",
       "      <th></th>\n",
       "      <th>code</th>\n",
       "      <th>name</th>\n",
       "      <th>count</th>\n",
       "    </tr>\n",
       "  </thead>\n",
       "  <tbody>\n",
       "  </tbody>\n",
       "</table>"
      ],
      "text/plain": [
       "<IPython.core.display.HTML object>"
      ]
     },
     "metadata": {},
     "output_type": "display_data"
    }
   ],
   "source": [
    "find_duplicates(travel_modes_dim_table)"
   ]
  },
  {
   "cell_type": "code",
   "execution_count": 176,
   "metadata": {
    "editable": true
   },
   "outputs": [
    {
     "data": {
      "text/html": [
       "<table border=\"1\" class=\"dataframe\">\n",
       "  <thead>\n",
       "    <tr style=\"text-align: right;\">\n",
       "      <th></th>\n",
       "      <th>code</th>\n",
       "      <th>name</th>\n",
       "      <th>count</th>\n",
       "    </tr>\n",
       "  </thead>\n",
       "  <tbody>\n",
       "  </tbody>\n",
       "</table>"
      ],
      "text/plain": [
       "<IPython.core.display.HTML object>"
      ]
     },
     "metadata": {},
     "output_type": "display_data"
    }
   ],
   "source": [
    "find_duplicates(visa_categories_dim_table)"
   ]
  },
  {
   "cell_type": "markdown",
   "metadata": {
    "editable": true
   },
   "source": [
    "checking for missing data in i_94 and cities tables"
   ]
  },
  {
   "cell_type": "code",
   "execution_count": 189,
   "metadata": {
    "editable": true
   },
   "outputs": [
    {
     "data": {
      "text/html": [
       "<table border=\"1\" class=\"dataframe\">\n",
       "  <thead>\n",
       "    <tr style=\"text-align: right;\">\n",
       "      <th></th>\n",
       "      <th>cicid</th>\n",
       "      <th>entry_year</th>\n",
       "      <th>entry_month</th>\n",
       "      <th>origin_country_code</th>\n",
       "      <th>port_code</th>\n",
       "      <th>arrival_date</th>\n",
       "      <th>travel_mode_code</th>\n",
       "      <th>us_state_code</th>\n",
       "      <th>departure_date</th>\n",
       "      <th>age</th>\n",
       "      <th>visa_category_code</th>\n",
       "      <th>occupation</th>\n",
       "      <th>gender</th>\n",
       "      <th>birth_year</th>\n",
       "      <th>entry_date</th>\n",
       "      <th>airline</th>\n",
       "      <th>admission_number</th>\n",
       "      <th>flight_number</th>\n",
       "      <th>visa_type</th>\n",
       "    </tr>\n",
       "  </thead>\n",
       "  <tbody>\n",
       "    <tr>\n",
       "      <th>0</th>\n",
       "      <td>0</td>\n",
       "      <td>0</td>\n",
       "      <td>0</td>\n",
       "      <td>0</td>\n",
       "      <td>0</td>\n",
       "      <td>0</td>\n",
       "      <td>0</td>\n",
       "      <td>0</td>\n",
       "      <td>0</td>\n",
       "      <td>0</td>\n",
       "      <td>0</td>\n",
       "      <td>0</td>\n",
       "      <td>0</td>\n",
       "      <td>0</td>\n",
       "      <td>0</td>\n",
       "      <td>0</td>\n",
       "      <td>0</td>\n",
       "      <td>0</td>\n",
       "      <td>0</td>\n",
       "    </tr>\n",
       "  </tbody>\n",
       "</table>"
      ],
      "text/plain": [
       "<IPython.core.display.HTML object>"
      ]
     },
     "metadata": {},
     "output_type": "display_data"
    }
   ],
   "source": [
    "find_nulls(i_94_fact_table)"
   ]
  },
  {
   "cell_type": "code",
   "execution_count": 178,
   "metadata": {
    "editable": true
   },
   "outputs": [
    {
     "data": {
      "text/html": [
       "<table border=\"1\" class=\"dataframe\">\n",
       "  <thead>\n",
       "    <tr style=\"text-align: right;\">\n",
       "      <th></th>\n",
       "      <th>port_code</th>\n",
       "      <th>city</th>\n",
       "      <th>state_code</th>\n",
       "      <th>male_population</th>\n",
       "      <th>female_population</th>\n",
       "      <th>total_population</th>\n",
       "      <th>number_of_veterans</th>\n",
       "      <th>num_foreign_born</th>\n",
       "    </tr>\n",
       "  </thead>\n",
       "  <tbody>\n",
       "    <tr>\n",
       "      <th>0</th>\n",
       "      <td>0</td>\n",
       "      <td>0</td>\n",
       "      <td>0</td>\n",
       "      <td>0</td>\n",
       "      <td>0</td>\n",
       "      <td>0</td>\n",
       "      <td>2</td>\n",
       "      <td>2</td>\n",
       "    </tr>\n",
       "  </tbody>\n",
       "</table>"
      ],
      "text/plain": [
       "<IPython.core.display.HTML object>"
      ]
     },
     "metadata": {},
     "output_type": "display_data"
    }
   ],
   "source": [
    "find_nulls(city_dim_table)"
   ]
  },
  {
   "cell_type": "markdown",
   "metadata": {
    "editable": true
   },
   "source": [
    "checking for duplicate primery keys in dimension tables"
   ]
  },
  {
   "cell_type": "code",
   "execution_count": 196,
   "metadata": {
    "editable": true
   },
   "outputs": [
    {
     "data": {
      "text/plain": [
       "True"
      ]
     },
     "execution_count": 196,
     "metadata": {},
     "output_type": "execute_result"
    }
   ],
   "source": [
    "(ports_dim_table.toPandas().code.value_counts() == 1).all()"
   ]
  },
  {
   "cell_type": "code",
   "execution_count": 197,
   "metadata": {
    "editable": true
   },
   "outputs": [
    {
     "data": {
      "text/plain": [
       "True"
      ]
     },
     "execution_count": 197,
     "metadata": {},
     "output_type": "execute_result"
    }
   ],
   "source": [
    "(states_dim_table.toPandas().code.value_counts() == 1).all()"
   ]
  },
  {
   "cell_type": "code",
   "execution_count": 198,
   "metadata": {
    "editable": true
   },
   "outputs": [
    {
     "data": {
      "text/plain": [
       "True"
      ]
     },
     "execution_count": 198,
     "metadata": {},
     "output_type": "execute_result"
    }
   ],
   "source": [
    "(countries_dim_table.toPandas().code.value_counts() == 1).all()"
   ]
  },
  {
   "cell_type": "code",
   "execution_count": 199,
   "metadata": {
    "editable": true
   },
   "outputs": [
    {
     "data": {
      "text/plain": [
       "True"
      ]
     },
     "execution_count": 199,
     "metadata": {},
     "output_type": "execute_result"
    }
   ],
   "source": [
    "(travel_modes_dim_table.toPandas().code.value_counts() == 1).all()"
   ]
  },
  {
   "cell_type": "code",
   "execution_count": 200,
   "metadata": {
    "editable": true
   },
   "outputs": [
    {
     "data": {
      "text/plain": [
       "True"
      ]
     },
     "execution_count": 200,
     "metadata": {},
     "output_type": "execute_result"
    }
   ],
   "source": [
    "(visa_categories_dim_table.toPandas().code.value_counts() == 1).all()"
   ]
  },
  {
   "cell_type": "markdown",
   "metadata": {
    "editable": true
   },
   "source": [
    "check for number of rows"
   ]
  },
  {
   "cell_type": "code",
   "execution_count": 206,
   "metadata": {
    "editable": true
   },
   "outputs": [
    {
     "name": "stdout",
     "output_type": "stream",
     "text": [
      "+-------+\n",
      "|  count|\n",
      "+-------+\n",
      "|2823323|\n",
      "+-------+\n",
      "\n"
     ]
    }
   ],
   "source": [
    "i_94_fact_table.createOrReplaceTempView('i_94_fact_table')\n",
    "\n",
    "spark.sql(\"\"\"\n",
    "    SELECT \n",
    "        COUNT(*) as count\n",
    "    FROM i_94_fact_table\n",
    "\"\"\").show()\n"
   ]
  },
  {
   "cell_type": "code",
   "execution_count": 208,
   "metadata": {
    "editable": true
   },
   "outputs": [
    {
     "name": "stdout",
     "output_type": "stream",
     "text": [
      "+-----+\n",
      "|count|\n",
      "+-----+\n",
      "|  115|\n",
      "+-----+\n",
      "\n"
     ]
    }
   ],
   "source": [
    "city_dim_table.createOrReplaceTempView('city_dim_table')\n",
    "\n",
    "spark.sql(\"\"\"\n",
    "    SELECT \n",
    "        COUNT(*) as count\n",
    "    FROM city_dim_table\n",
    "\"\"\").show()\n"
   ]
  },
  {
   "cell_type": "code",
   "execution_count": 209,
   "metadata": {
    "editable": true
   },
   "outputs": [
    {
     "name": "stdout",
     "output_type": "stream",
     "text": [
      "+-----+\n",
      "|count|\n",
      "+-----+\n",
      "|  583|\n",
      "+-----+\n",
      "\n"
     ]
    }
   ],
   "source": [
    "ports_dim_table.createOrReplaceTempView('ports_dim_table')\n",
    "\n",
    "spark.sql(\"\"\"\n",
    "    SELECT \n",
    "        COUNT(*) as count\n",
    "    FROM ports_dim_table\n",
    "\"\"\").show()"
   ]
  },
  {
   "cell_type": "markdown",
   "metadata": {
    "editable": true
   },
   "source": [
    "#### 4.3 Data dictionary "
   ]
  },
  {
   "cell_type": "markdown",
   "metadata": {
    "editable": true
   },
   "source": [
    "<code>i_94_fact_table</code>\n",
    "- **cicid:** id from sas file\n",
    "- **entry_year:** 4 digit year\n",
    "- **entry_month:** numeric month\n",
    "- **origin_country_code:** i94 country code as per SAS Labels Descriptions file\n",
    "- **port_code:** i94port code as per SAS Labels Descriptions file\n",
    "- **arrival_date:** date of arrival in U.S.\n",
    "- **travel_mode_code:** code for travel mode of arrival as per SAS Labels Descriptions file\n",
    "- **us_state_code:** two letter U.S. state code\n",
    "- **departure_date:** departure date from U.S.\n",
    "- **age:** age of the immigrant\n",
    "- **visa_category_code:** visa category code as per SAS Labels Descriptions file\n",
    "- **occupation:** occupation of immigrant\n",
    "- **gender:** gender of immigrant\n",
    "- **birth_year:** birth year of immigrant\n",
    "- **entry_date:** Date to which admitted to U.S. (allowed to stay until)\n",
    "- **airline:** airline code used to arrive in U.S.\n",
    "- **admission_number:** admission number\n",
    "- **flight_number:** flight number\n",
    "- **visa_type:** visa type\n",
    "\n",
    "<code>dim_city_demographics</code>\n",
    "- **port_code:** i94port code\n",
    "- **city:** Common name of U.S. city. Part of the candidate key to airports\n",
    "- **state_code:** two letter U.S. sate code\n",
    "- **male_population:** total male population\n",
    "- **female_population:** total female population\n",
    "- **total_population:** total population\n",
    "- **number_of_veterans:** number of veterans\n",
    "- **num_foreign_born:** number of foreign born"
   ]
  },
  {
   "cell_type": "markdown",
   "metadata": {
    "editable": true
   },
   "source": [
    "#### Step 5: Conclusion and Reflection\n",
    "\n",
    "The target star Schema has been successfully created and passed the quality checks. The data model employed the tool and technologies: python, Pandas, and Apache Spark. The Schema is optimized to support OLAP queries. Even though the data model is created using a portion of the data, it is expected to work when we concatenate all of the data and load it with Spark. However, with a larger dataset or handling a large number of simultaneous queries, using more clusters or EMR would as the size of the data scales up.\n",
    "\n",
    "#### Tools and Technologies usage:\n",
    "\n",
    "Python, Pandas, and Spark enabled us to read, clean, ingest, process, load, and store the data with ease. \n",
    "\n",
    "Spark was chosen over Hadoop for its better flexibility in wrangling data and better adaption in working on both local machines and scaling up nicely and efficiently on a larger cluster of nodes. \n",
    "\n",
    "Pandas dataframes are extremely easy to explore and analyze. If we take a portion of the data in the spark session and put it into Pandas dataframe, we can implement a plethora of built-in functions that can help for serving as a proof of concept on a smaller scale, then test it on a larger scale with spark dataframes and user-defined functions.\n",
    "\n",
    "We could use more technologies in future work. We might add Apache Airflow DAGs to automate fact table updates and data quality checks. Cloud-based storage and/or instance can be utilized to ensure that database is always up.\n",
    "\n",
    "#### Data Model:\n",
    "The star schema was designed with OLAP queries in mind. The ETL process, and sequentially the data quality checks, ensured that the dimension tables are normalized. This normalization allows for analytical queries they are more intuitive and less complex, and computationally inexpensive in case of aggregation on any of the dimensions. And due to the fact that the dimension tables are relatively small with a sufficiently large number of uniques primary keys, the joins are also intuitive and less taxing on the database.\n",
    "\n",
    "* **When the data was increased by 100x**\n",
    "We might consider deploying more work nodes for Spark with data distributed between them. If this might not suffice as data scales up, we could use instances of EC2 clusters for more processing power and Amazon RedShift S3 buckets for storage, or Amazon EMR, albeit these cloud-based options are more costly than the addition of more nodes in the cluster.\n",
    "\n",
    "* **How do you run this pipeline on a daily basis by 7 am every day.**\n",
    "In this case, we can design Apache Airflow DAGs that execute the ETL pipeline as well as data quality checks, scheduled to run every day at 7 am. The DAG structure should be well-thought-out that it has proper error handling with descriptive logging messages so we can better understand and trace errors in the data lineage.\n",
    "\n",
    "* **How do you make your database could be accessed by 100+ people?**\n",
    "In this case, we might consider creating additional tables that are optimized for the most frequent queries. However, if queries are unpredictable, we can opt to host the data in the cloud. Options include AWS RDS, and MS Azure"
   ]
  },
  {
   "cell_type": "code",
   "execution_count": null,
   "metadata": {
    "editable": true
   },
   "outputs": [],
   "source": []
  }
 ],
 "metadata": {
  "kernelspec": {
   "display_name": "Python 3",
   "language": "python",
   "name": "python3"
  },
  "language_info": {
   "codemirror_mode": {
    "name": "ipython",
    "version": 3
   },
   "file_extension": ".py",
   "mimetype": "text/x-python",
   "name": "python",
   "nbconvert_exporter": "python",
   "pygments_lexer": "ipython3",
   "version": "3.6.3"
  }
 },
 "nbformat": 4,
 "nbformat_minor": 4
}
